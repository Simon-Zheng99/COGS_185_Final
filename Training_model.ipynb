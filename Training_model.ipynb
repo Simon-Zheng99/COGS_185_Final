{
 "cells": [
  {
   "cell_type": "code",
   "execution_count": 1,
   "id": "0d8261d9",
   "metadata": {},
   "outputs": [
    {
     "name": "stdout",
     "output_type": "stream",
     "text": [
      "Training for 2000 epochs...\n",
      "  0%|                                                  | 0/2000 [00:00<?, ?it/s]/home/sdzheng/.local/lib/python3.9/site-packages/torch/autograd/__init__.py:200: UserWarning: CUDA initialization: CUDA driver initialization failed, you might not have a CUDA gpu. (Triggered internally at ../c10/cuda/CUDAFunctions.cpp:109.)\n",
      "  Variable._execution_engine.run_backward(  # Calls into the C++ engine to run the backward pass\n",
      "  5%|█▉                                     | 99/2000 [12:45<2:34:18,  4.87s/it][12m 49s (100 5%) 1.8962]\n",
      "Why World a... \n",
      "Soling missed durie for to on\" and. \n",
      "Aws pations are ace somes of enames at for are de \n",
      "\n",
      " 10%|███▊                                  | 199/2000 [21:56<3:09:47,  6.32s/it][22m 2s (200 10%) 1.7055]\n",
      "What pump disp... \n",
      "#WinPileason delidal worse like that tally from #COVID19 has still and your a cross \n",
      "\n",
      " 15%|█████▋                                | 299/2000 [31:29<2:34:49,  5.46s/it][31m 35s (300 15%) 1.5939]\n",
      "Whey Texas August Died from #COVID19 #CoronaVirusUpdate #COVID19 #fathare #COVID19 #Russion affected a \n",
      "\n",
      " 20%|███████▌                              | 399/2000 [40:36<2:03:34,  4.63s/it][40m 43s (400 20%) 1.5525]\n",
      "White I've from about that #COVID19 is residelled workers for his and staking the decistine to further \n",
      "\n",
      " 25%|█████████▍                            | 499/2000 [51:19<2:59:43,  7.18s/it][51m 25s (500 25%) 1.5263]\n",
      "WhiteHost He days and ministrolainst it the last the states to #covid19 new failed in Americans proble \n",
      "\n",
      " 30%|██████████▊                         | 599/2000 [1:01:32<2:13:59,  5.74s/it][61m 39s (600 30%) 1.5308]\n",
      "Wh1 Coronavirus and 1,42 tay destrictions while trant, and 1,800 Americans being this fire. #COVID19 # \n",
      "\n",
      " 35%|████████████▌                       | 699/2000 [1:12:42<2:09:22,  5.97s/it][72m 46s (700 35%) 1.4448]\n",
      "Why Report asknessl the levels more people who still be a line of meet new #COVID19 take conoger in ch \n",
      "\n",
      " 40%|██████████████▍                     | 799/2000 [1:22:49<2:02:43,  6.13s/it][82m 54s (800 40%) 1.4971]\n",
      "Whate @realDonaldTrump #COVID19 #State #Iranias he such #COVID19 fear away to #COVID19 cases and going \n",
      "\n",
      " 45%|████████████████▏                   | 899/2000 [1:33:10<2:09:40,  7.07s/it][93m 17s (900 45%) 1.5208]\n",
      "Why don't think the most be a public VID. How many room asses through.  Read get don't ordership in un \n",
      "\n",
      " 50%|█████████████████▉                  | 999/2000 [1:43:49<1:58:15,  7.09s/it][103m 56s (1000 50%) 1.4777]\n",
      "What Bide The American isness in #COVID19\n",
      "#Corona #COVID19 \n",
      "It's mask in a very oning wile it can been \n",
      "\n",
      " 55%|███████████████████▏               | 1099/2000 [1:54:23<1:45:27,  7.02s/it][114m 30s (1100 55%) 1.4741]\n",
      "What Crossess of #COVID19 on #Arichares\n",
      "\n",
      "Biggest be #COVID19? Let's care may with it's being to the lo \n",
      "\n",
      " 60%|████████████████████▉              | 1199/2000 [2:05:40<1:40:30,  7.53s/it][125m 45s (1200 60%) 1.4652]\n",
      "Why so sociend leiselfuck with 11 deaths deaths in the last 24 hours. Our wither condition from the sa \n",
      "\n",
      " 65%|██████████████████████▋            | 1299/2000 [2:17:09<1:22:11,  7.04s/it][137m 17s (1300 65%) 1.4266]\n",
      "WhatGay reports in #Heatched to endore are prosiculably returing the virus on provodie, but crubinging \n",
      "\n",
      " 70%|█████████████████████████▉           | 1399/2000 [2:27:52<59:43,  5.96s/it][147m 59s (1400 70%) 1.4404]\n",
      "Why has action is the @TheLifeasCountrucfollows \n",
      "#RobermaKolonMOPenam... \n",
      "The Virus MORE TO AGEWAND ST \n",
      "\n",
      " 75%|██████████████████████████▏        | 1499/2000 [2:39:51<2:20:32, 16.83s/it][160m 6s (1500 75%) 1.4813]\n",
      "Whet @AnnyAgeDenyand On @Texashorida #COVID19 lives with the #COVID19 changing an. @MiksGreating They  \n",
      "\n",
      " 80%|███████████████████████████▉       | 1599/2000 [3:01:19<1:03:15,  9.47s/it][181m 30s (1600 80%) 1.4194]\n",
      "What Could not be #covid #covid19 #Ahmand #TrumpIsAComplies in the prowendors to your puts of bascort  \n",
      "\n",
      " 85%|███████████████████████████████▍     | 1699/2000 [3:15:33<43:30,  8.67s/it][195m 39s (1700 85%) 1.4597]\n",
      "WhiteBlue @Paurantlatoss So I make the nation on leaders reco weeks and realsing about banned in truth \n",
      "\n",
      " 90%|█████████████████████████████████▎   | 1799/2000 [3:28:28<18:12,  5.44s/it][208m 32s (1800 90%) 1.4814]\n",
      "Who 10 Kills heist to sends, back of the factations carried and the #COVID19 pandemic are facing but i \n",
      "\n",
      " 95%|███████████████████████████████████▏ | 1899/2000 [3:38:09<07:53,  4.69s/it][218m 14s (1900 95%) 1.4374]\n",
      "Why YOU exist the #COVID19 pandemic, have shock is so systemic. \n",
      "\n",
      " I want to get a breath... \n",
      "How many \n",
      "\n",
      "100%|████████████████████████████████████▉| 1999/2000 [3:47:33<00:05,  5.06s/it][227m 38s (2000 100%) 1.4671]\n",
      "Whred this iss have injure to time #Americans have been delivide... \n",
      "Not about the #COVID19 deaths wit \n",
      "\n",
      "100%|█████████████████████████████████████| 2000/2000 [3:47:38<00:00,  6.83s/it]\n",
      "Saving...\n",
      "Saved as negative_tweets.pt\n",
      "Figure(640x480)\n"
     ]
    }
   ],
   "source": [
    "!python train.py negative_tweets.txt"
   ]
  },
  {
   "cell_type": "code",
   "execution_count": 2,
   "id": "613a6513",
   "metadata": {},
   "outputs": [
    {
     "name": "stdout",
     "output_type": "stream",
     "text": [
      "And is a liess my becauseling protests \r\n",
      "What is times of #COVID19 desiled by i state some a weee disa\r\n"
     ]
    }
   ],
   "source": [
    "!python generate.py negative_tweets.pt"
   ]
  },
  {
   "cell_type": "code",
   "execution_count": 3,
   "id": "06ccdb3e",
   "metadata": {},
   "outputs": [
    {
     "name": "stdout",
     "output_type": "stream",
     "text": [
      "Abve for the video during #Covid19. I know last the hoaxes to can't get the spreader a.3 hear turn of\r\n"
     ]
    }
   ],
   "source": [
    "!python generate.py negative_tweets.pt"
   ]
  },
  {
   "cell_type": "code",
   "execution_count": 4,
   "id": "d56c1b69",
   "metadata": {},
   "outputs": [
    {
     "name": "stdout",
     "output_type": "stream",
     "text": [
      "A total increase to slow not our world. #COVID19 #BorisHavidens\r\n",
      "\r\n",
      "\r\n",
      "......... \r\n",
      "We have to a mask of the\r\n"
     ]
    }
   ],
   "source": [
    "!python generate.py negative_tweets.pt"
   ]
  },
  {
   "cell_type": "code",
   "execution_count": 5,
   "id": "17c9ac85",
   "metadata": {},
   "outputs": [
    {
     "name": "stdout",
     "output_type": "stream",
     "text": [
      "AL DEAD OTMOROSTIANI @IMg19,000,0y99 in the world! OMG the stupid death toll in post... \r\n",
      "The shere so\r\n"
     ]
    }
   ],
   "source": [
    "!python generate.py negative_tweets.pt"
   ]
  },
  {
   "cell_type": "code",
   "execution_count": 6,
   "id": "09fe8706",
   "metadata": {},
   "outputs": [
    {
     "name": "stdout",
     "output_type": "stream",
     "text": [
      "America with our horrilds have been a #psily... \r\n",
      "@Tesyomence @SpeakerAMasks Pandemic News YOU demic i\r\n"
     ]
    }
   ],
   "source": [
    "!python generate.py negative_tweets.pt"
   ]
  },
  {
   "cell_type": "code",
   "execution_count": 12,
   "id": "a5e9d78f",
   "metadata": {},
   "outputs": [
    {
     "name": "stdout",
     "output_type": "stream",
     "text": [
      "AGM \r\n",
      "@Teachm @WhiteHousing They are leader the politics in @Chagedama #CoronaKks is government of a mass dianting in these than the #Biden\r\n",
      "Perman is control at a millions.  #Covid19 #TrumpIsAmerica... \r\n",
      "#Covid19 #Coronavirus #Oddishortard #COVID19 \r\n",
      "#COVID19 social, his people to 312 new #COVID19 pandemic industed costing grosses day in a track... \r\n",
      "For than a normalid state still by no worst today. U eat... \r\n",
      "\"Bill 2 education: 779,339 corovid19 execapandeming la... \r\n",
      "#Covid19 \r\n",
      "\r\n",
      "#COVID19 #1SDS #COVID19 #Frorida \r\n",
      "#FaceFatiousNews that's worse in many people test interners 1,000 deaths. #COVID19 #Okaborm. \r\n",
      "\r\n",
      "We are like they violence to a vot... \r\n",
      "On @odgolrest 600 COVID Recuration can applets of a deems and &amp; incinidult! \r\n",
      "@AC @realDonaldTrump to pain too street these fave family in #COVID19\r\n",
      "\r\n",
      "3.3.... \r\n",
      "\"What India's this handone of #COVID19 death toll around a communish toll or the last this single record of that one is work. He of #Covid19. Vell... \r\n",
      "@Faceivas and spread of #COVID19 being ou\r\n"
     ]
    }
   ],
   "source": [
    "!python generate.py negative_tweets.pt --predict_len 1000"
   ]
  },
  {
   "cell_type": "code",
   "execution_count": null,
   "id": "28892a9f",
   "metadata": {},
   "outputs": [
    {
     "name": "stdout",
     "output_type": "stream",
     "text": [
      "Training for 2000 epochs...\n",
      "  5%|█▉                                     | 99/2000 [19:55<6:24:53, 12.15s/it][20m 7s (100 5%) 1.9577]\n",
      "Whatto jibetha good adduripdiby with the #COVID19\n",
      "#COVID19 probzeed for demelends test the your \n",
      "#Kank \n",
      "\n",
      " 10%|███▊                                  | 199/2000 [40:19<6:06:16, 12.20s/it][40m 32s (200 10%) 1.6952]\n",
      "Which is that it like to small, early will lab business miss #COVID19 \n",
      "@Helecanavirus #WearAMask #supp \n",
      "\n",
      " 15%|█████▋                                | 299/2000 [48:04<2:12:17,  4.67s/it][48m 9s (300 15%) 1.6728]\n",
      "While of Eduentria working made, hands... \n",
      "I will changed and great loanth stories in the #COVID19 \n",
      "I  \n",
      "\n",
      " 20%|███████▌                              | 399/2000 [56:19<2:04:48,  4.68s/it][56m 24s (400 20%) 1.5805]\n",
      "Whi Thank you @YNaiesSongDessHedur of the new #COVID19 \n",
      "#COVID19 #GVirtive #COVID19 #COVID19 #covid... \n",
      "\n",
      " 25%|████████▉                           | 499/2000 [1:03:54<1:46:49,  4.27s/it][64m 0s (500 25%) 1.5532]\n",
      "While to explanations. Hope you... \n",
      "Intpering Amazing continues to want of this responsen to receive # \n",
      "\n",
      " 30%|██████████▊                         | 599/2000 [1:11:41<1:38:39,  4.23s/it][71m 45s (600 30%) 1.5142]\n",
      "Wherapolia - goes too series of to... \n",
      "Are improves a step to make tracting outbreak got from 22,788 a \n",
      "\n",
      " 35%|████████████▌                       | 699/2000 [1:19:14<1:20:58,  3.73s/it][79m 18s (700 35%) 1.4866]\n",
      "What applending The Lording Goa  #COVID19 \n",
      "I love and how eltimes to stronger the impact. You had some \n",
      "\n",
      " 40%|██████████████▍                     | 799/2000 [1:26:18<1:34:26,  4.72s/it][86m 22s (800 40%) 1.5111]\n",
      "Whire this we can me... \n",
      "@Masa_Rick \n",
      "@WhhoudayPoves #COVID19 #alreading #SOVID19 \n",
      " #COVID19 #COVID19 # \n",
      "\n",
      " 45%|████████████████▏                   | 899/2000 [1:33:48<1:14:53,  4.08s/it][93m 52s (900 45%) 1.4892]\n",
      "Whery is coon for your pieces to save protecting on this inspire of social outly suring the way to mov \n",
      "\n",
      " 50%|█████████████████▉                  | 999/2000 [1:41:14<1:18:12,  4.69s/it][101m 19s (1000 50%) 1.4766]\n",
      "WhilifeBleary so but it a days. We all #Pransis #Coronavirus part this article doing a received are in \n",
      "\n",
      " 55%|███████████████████▏               | 1099/2000 [1:48:43<1:09:09,  4.61s/it][108m 48s (1100 55%) 1.4798]\n",
      "WhisNeed interesting, successfully indid... \n",
      " \n",
      "\n",
      "#COVID19 \n",
      "\n",
      "6 #COVID19 we read out to active come for t \n",
      "\n",
      " 60%|████████████████████▉              | 1199/2000 [1:56:19<1:02:42,  4.70s/it][116m 23s (1200 60%) 1.4933]\n",
      "Whon's week first missed at us Godmont. @DrMayerAFlandso \n",
      "#COVID19 #Mapstrolicator2... \n",
      "So remember ma \n",
      "\n",
      " 65%|████████████████████████             | 1299/2000 [2:04:02<55:56,  4.79s/it][124m 8s (1300 65%) 1.4765]\n",
      "Whilation #COVID19 positive cases receive harring great to list on University, receive far to help you \n",
      "\n",
      " 70%|█████████████████████████▉           | 1399/2000 [2:11:55<41:55,  4.19s/it][132m 0s (1400 70%) 1.4327]\n",
      "While #COVID19 #WearAMask #fums #COVID19... \n",
      "Thanks to the new repood positivity and many positive! Fi \n",
      "\n",
      " 75%|███████████████████████████▋         | 1499/2000 [2:19:46<37:23,  4.48s/it][139m 51s (1500 75%) 1.4430]\n",
      "While Yhase TOO to @HupNesmalequably to get as about at at 1) in ASLIVENINP ON ALLNT helped in the tea \n",
      "\n",
      " 80%|█████████████████████████████▌       | 1599/2000 [2:27:21<30:08,  4.51s/it][147m 25s (1600 80%) 1.4343]\n",
      "Whire China Snee New Zearanta getting for extending the traiting my single tested months to get #COVID \n",
      "\n",
      " 85%|███████████████████████████████▍     | 1699/2000 [2:34:31<21:31,  4.29s/it][154m 35s (1700 85%) 1.4432]\n",
      "Whities!\n",
      "\n",
      "While I ronight and stay survey and lower, played in #COVID19 \n",
      "20% on encouright.  @fhatscla \n",
      "\n",
      " 90%|█████████████████████████████████▎   | 1799/2000 [2:41:53<15:43,  4.69s/it][161m 57s (1800 90%) 1.4145]\n",
      "White #COVID19 #COVID19 #COVIDIDIRORNYI to dream has given this #COVID19 #ContactSavery's #WAP individ \n",
      "\n",
      " 95%|███████████████████████████████████▏ | 1899/2000 [2:49:03<07:40,  4.56s/it][169m 7s (1900 95%) 1.4360]\n",
      "WhUK and end to date and like thanks, taking countries in the #COVID19 pandemic. The #USA register the \n",
      "\n",
      " 99%|████████████████████████████████████▊| 1989/2000 [2:55:58<00:47,  4.32s/it]"
     ]
    }
   ],
   "source": [
    "!python train.py positive_tweets.txt"
   ]
  },
  {
   "cell_type": "code",
   "execution_count": 1,
   "id": "0f2d284f",
   "metadata": {},
   "outputs": [
    {
     "name": "stdout",
     "output_type": "stream",
     "text": [
      "Agust date through the flue to this #COVID19 in Lockle Est Said, God all thankful our don't had how a\r\n"
     ]
    }
   ],
   "source": [
    "!python generate.py positive_tweets.pt"
   ]
  },
  {
   "cell_type": "code",
   "execution_count": 2,
   "id": "5ee63c8c",
   "metadata": {},
   "outputs": [
    {
     "name": "stdout",
     "output_type": "stream",
     "text": [
      "Axican for the 15th &amp; plans we can don't can have the spreading a work to swey only convenies. We\r\n"
     ]
    }
   ],
   "source": [
    "!python generate.py positive_tweets.pt"
   ]
  },
  {
   "cell_type": "code",
   "execution_count": 3,
   "id": "74abacdd",
   "metadata": {},
   "outputs": [
    {
     "name": "stdout",
     "output_type": "stream",
     "text": [
      "AllReant Leadin ... \r\n",
      "Thanks to recover school is the recovery to be show a lot of the first 15 in-tra\r\n"
     ]
    }
   ],
   "source": [
    "!python generate.py positive_tweets.pt"
   ]
  },
  {
   "cell_type": "code",
   "execution_count": 4,
   "id": "e816a651",
   "metadata": {},
   "outputs": [
    {
     "name": "stdout",
     "output_type": "stream",
     "text": [
      "A9 weeks ago for you your achiet plus to sponsure amid... \r\n",
      "Wah to sim justice for the #COVID19 cases \r\n"
     ]
    }
   ],
   "source": [
    "!python generate.py positive_tweets.pt"
   ]
  },
  {
   "cell_type": "code",
   "execution_count": 5,
   "id": "98c4c7f8",
   "metadata": {},
   "outputs": [
    {
     "name": "stdout",
     "output_type": "stream",
     "text": [
      "AZdeoleSandmonast for all summered on turned the big... \r\n",
      "Thanks  through s... \r\n",
      "In soon, donation appr\r\n"
     ]
    }
   ],
   "source": [
    "!python generate.py positive_tweets.pt"
   ]
  },
  {
   "cell_type": "code",
   "execution_count": 6,
   "id": "e3e0c9f5",
   "metadata": {},
   "outputs": [
    {
     "name": "stdout",
     "output_type": "stream",
     "text": [
      "AKF we will world rosb... \r\n",
      "Enjoy by #COVID19 in Only to well as After driver in Stay reteless one of \r\n"
     ]
    }
   ],
   "source": [
    "!python generate.py positive_tweets.pt"
   ]
  },
  {
   "cell_type": "code",
   "execution_count": 7,
   "id": "dec1d0a7",
   "metadata": {},
   "outputs": [
    {
     "name": "stdout",
     "output_type": "stream",
     "text": [
      "AGENE #Covid19 #COVID #artificialovation #tifecle #hidency #smarthodgething #stayharmarity... \r\n",
      "Good N\r\n"
     ]
    }
   ],
   "source": [
    "!python generate.py positive_tweets.pt"
   ]
  },
  {
   "cell_type": "code",
   "execution_count": 37,
   "id": "09fd776c",
   "metadata": {},
   "outputs": [
    {
     "name": "stdout",
     "output_type": "stream",
     "text": [
      "Training for 2000 epochs...\n",
      "  5%|█▉                                     | 99/2000 [06:39<2:16:19,  4.30s/it][6m 44s (100 5%) 1.8167]\n",
      "When #COVID19 cases is amE... \n",
      "Gover virus lurs... \n",
      "You yan hiver in they any... \n",
      "Bost proventive that \n",
      "\n",
      " 10%|███▊                                  | 199/2000 [13:11<2:13:34,  4.45s/it][13m 15s (200 10%) 1.6489]\n",
      "Whe #Compator #Covid19 \n",
      "Falise Seepwaglar-news died for... \n",
      "@nask @loreyoun \n",
      "Shomes don't when have a  \n",
      "\n",
      " 15%|█████▋                                | 299/2000 [19:48<1:44:28,  3.68s/it][19m 51s (300 15%) 1.6051]\n",
      "What #daya and... \n",
      "#COVID19 #Coronavirus #COVIDIOTHIFLWOALL and Hospital, #TeremaskUp-#COVID19 #hasPol \n",
      "\n",
      " 20%|███████▌                              | 399/2000 [28:33<2:22:06,  5.33s/it][28m 39s (400 20%) 1.5551]\n",
      "Whethery because his geet to over a #COVID19 than and refused and more transmicter but immunity nothin \n",
      "\n",
      " 25%|█████████▍                            | 499/2000 [36:59<1:59:58,  4.80s/it][37m 4s (500 25%) 1.5461]\n",
      "Whesny cases and not like the country infour... \n",
      "#TrumpVirus is deaths reported in last cases... \n",
      "Vict \n",
      "\n",
      " 30%|███████████▍                          | 599/2000 [45:33<2:06:20,  5.41s/it][45m 39s (600 30%) 1.5366]\n",
      "White #Covid19 / ALIS LEWT do how hard sirating no consticians will millionissid it are of #COVID19 mo \n",
      "\n",
      " 35%|█████████████▎                        | 699/2000 [53:33<1:57:41,  5.43s/it][53m 38s (700 35%) 1.4551]\n",
      "White without a risk of the coronavirus cases, like the #Studysmetimy is live after #Police is leaders \n",
      "\n",
      " 40%|██████████████▍                     | 799/2000 [1:01:30<1:15:29,  3.77s/it][61m 33s (800 40%) 1.5157]\n",
      "When #coronavirus #COVID19 #acemanywants #COVID19 #COVID19\n",
      "#GeParkin #COVID19 #CoronavirusPandemic...  \n",
      "\n",
      " 45%|████████████████▏                   | 899/2000 [1:07:36<1:09:26,  3.78s/it][67m 40s (900 45%) 1.4854]\n",
      "What play the extremed their disruption. #COVID19 \n",
      "#lefarytagagariane in fucker heart this in the coun \n",
      "\n",
      " 50%|█████████████████▉                  | 999/2000 [1:14:00<1:01:38,  3.69s/it][74m 4s (1000 50%) 1.4605]\n",
      "What his poticians sfreep heart wear a destroyed the fam attimation in the US were business... \n",
      "@realD \n",
      "\n",
      " 55%|███████████████████▏               | 1099/2000 [1:20:37<1:06:07,  4.40s/it][80m 41s (1100 55%) 1.4635]\n",
      "When a murder for the fuckle, economic lives particularate on #scam in First is it cause or... \n",
      "With 1 \n",
      "\n",
      " 60%|██████████████████████▏              | 1199/2000 [1:27:02<51:22,  3.85s/it][87m 6s (1200 60%) 1.4466]\n",
      "Which Tick TO WE THE Texas and resulted the news: Glease Americans coronavirus. The are in the last 5  \n",
      "\n",
      " 65%|████████████████████████             | 1299/2000 [1:33:42<42:06,  3.60s/it][93m 46s (1300 65%) 1.4515]\n",
      "White #COVID19 #coronavirusuk #COVID19 \n",
      "ALERT: I wondering a disease of #COVID19. That's a can serious \n",
      "\n",
      " 70%|█████████████████████████▉           | 1399/2000 [1:39:38<35:48,  3.58s/it][99m 41s (1400 70%) 1.4247]\n",
      "What Have Twitter is safe It is that better more the Rober cannot because every should seaders slittin \n",
      "\n",
      " 75%|███████████████████████████▋         | 1499/2000 [1:45:34<29:27,  3.53s/it][105m 38s (1500 75%) 1.4704]\n",
      "Why #COVID19 \n",
      "\n",
      "The remashapt for the gock accuse ((ootal in #Texas has still to get #Covid19 \n",
      "\n",
      "#Cancel \n",
      "\n",
      " 80%|█████████████████████████████▌       | 1599/2000 [1:51:19<23:11,  3.47s/it][111m 22s (1600 80%) 1.4667]\n",
      "When the Musures for #COVID19 cases in the heart for missing from #coronavirusuk #Mask #manated \n",
      "Democ \n",
      "\n",
      " 85%|███████████████████████████████▍     | 1699/2000 [1:57:24<19:06,  3.81s/it][117m 28s (1700 85%) 1.4178]\n",
      "What suffering to job dune to no do the that in mortity. \n",
      "A Britain @jmikeBrood Health coronavirus-par \n",
      "\n",
      " 90%|█████████████████████████████████▎   | 1799/2000 [2:03:18<11:21,  3.39s/it][123m 21s (1800 90%) 1.4967]\n",
      "Whenes government | We are imple-day. Sparenercessn proper. Not resulting in a -- Portland on detress  \n",
      "\n",
      " 95%|███████████████████████████████████▏ | 1899/2000 [2:13:44<12:38,  7.51s/it][133m 55s (1900 95%) 1.4134]\n",
      "Why @WearAMasks No country protestening because of powered because of #COVID19 results. Anda of today  \n",
      "\n",
      "100%|████████████████████████████████████▉| 1999/2000 [2:26:04<00:07,  7.93s/it][146m 10s (2000 100%) 1.3981]\n",
      "Why #COVID19 is about the coronavirus is a this won't see in country think of news worst risk to the c \n",
      "\n",
      "100%|█████████████████████████████████████| 2000/2000 [2:26:10<00:00,  4.39s/it]\n",
      "Saving...\n",
      "Saved as negative_tweets.pt\n",
      "Figure(640x480)\n"
     ]
    }
   ],
   "source": [
    "!python train.py negative_tweets.txt"
   ]
  },
  {
   "cell_type": "code",
   "execution_count": 7,
   "id": "4f421a02",
   "metadata": {},
   "outputs": [
    {
     "name": "stdout",
     "output_type": "stream",
     "text": [
      "A seat mething the #COVID19 the #COVID19 and #ailutian the passed and your death momstarting... \r\n",
      "While town or relatives citiidiacheting the #COVID19 is under the bullshit break as the governors, and workers far that are the by #coronavirus #COVID19 tally in the #COVID19 to worry to lockdown since days and how many would in plan is the #COVID19 tally in another disaster #quarantine #COVID19 #coronavirus #CoronaVirusUpdate #COVID19 \r\n",
      "#TrumpIsh What do you into the #COVID19 sendiover alsetter country with should be a cancelled with we who can murder in the healthcare in do... \r\n",
      "New Covid-19 about 48,933 (#COVID19 coverad policyts was a bigger want the Work 36% of we in the lie the blouses and the #coronavirus #CoronaVirusUpdate #COVID19 #Coronavirus: #Pandemic\r\n",
      "@letigalUKDate Health Not News | #coronavirus #COVID19 #COVID19 #TrumpLiesTO#TrumpSackless?... \r\n",
      "All and Bill Los @jondospa @MaddoodPealative -... \r\n",
      "The GOP pissing #MaskMort, it &amp; people such age the disease and children has kill t\r\n"
     ]
    }
   ],
   "source": [
    "!python generate.py negative_tweets.pt --predict_len 1000"
   ]
  },
  {
   "cell_type": "code",
   "execution_count": 8,
   "id": "2c4f2f44",
   "metadata": {},
   "outputs": [
    {
     "name": "stdout",
     "output_type": "stream",
     "text": [
      "Abmercorrori \r\n",
      "@Drod__News @Mattrice Despections of expected for \r\n",
      "@MarlinsDEAD @BBCNews @GovRonMOMONE IS ONDI, and has excuse times will stople of the furlite that AL... \r\n",
      "Freed of the hold risk of day spreading for are because of but the studies with #COVID19 watch.\r\n",
      "\r\n",
      "READ MORE:... \r\n",
      "Chilleral deaths were severe traveliged out the privates, and my feight due to when we have what breaking fasced still signial... \r\n",
      "Fauci you sick to still the discrimingiling dont store than the #COVID19 cases and 10 million regreat and vaccine in\r\n",
      "masks. #Georgialzas 24-20 we know that system. The hotel forced and increased to spike in the future of the day.... \r\n",
      "Wasted pandemic\r\n",
      "\r\n",
      "The nation have coronavirus stop. Now the #Covid19\r\n",
      "#Fauci @NYN Corona Vietnam is faul than abnes of 3.9) Dix in worse'll entite, it of f... \r\n",
      "The death people spreading and residents of #COVID19 back is being to the #COVID19 pandemic us almost such any... \r\n",
      "Visood leated taxiston lagning service in #Texas sense blockdown are we are going\r\n"
     ]
    }
   ],
   "source": [
    "!python generate.py negative_tweets_norm.pt --predict_len 1000"
   ]
  },
  {
   "cell_type": "code",
   "execution_count": null,
   "id": "a1bde533",
   "metadata": {},
   "outputs": [
    {
     "name": "stdout",
     "output_type": "stream",
     "text": [
      "Training for 2000 epochs...\n",
      "  5%|█▉                                     | 99/2000 [14:38<5:57:06, 11.27s/it][14m 50s (100 5%) 1.8006]\n",
      "What hat speefically it... \n",
      "\" Sepional no brita. millow and show will the disingle. BLICIGE APD ALLTS  \n",
      "\n",
      " 10%|███▊                                  | 199/2000 [30:35<5:21:25, 10.71s/it][30m 44s (200 10%) 1.6150]\n",
      "What the resident will get a $w of has Bits frill the 27138 cases 17 in a may literally lost two a #CO \n",
      "\n",
      " 15%|█████▋                                | 299/2000 [46:16<4:43:07,  9.99s/it][46m 24s (300 15%) 1.5254]\n",
      "When the death in the choicing any oblers to a masking is the count #COVID19 cases and \"COVID the worl \n",
      "\n",
      " 20%|███████▏                            | 399/2000 [1:01:25<4:13:03,  9.48s/it][61m 33s (400 20%) 1.4818]\n",
      "Why can't need. That disturn of businesses. The that #COVID19 mother children expective. The heaven wh \n",
      "\n",
      " 25%|████████▉                           | 499/2000 [1:15:57<3:25:15,  8.20s/it][76m 6s (500 25%) 1.4839]\n",
      "White in any arrested to hit it's get no many mail was all of the value of more would wearing anyone,  \n",
      "\n",
      " 30%|██████████▊                         | 599/2000 [1:31:11<3:20:57,  8.61s/it][91m 20s (600 30%) 1.4329]\n",
      "When any social more died to the pandemic, when and how misinformation that \"deaths reported in India, \n",
      "\n",
      " 35%|████████████▌                       | 699/2000 [1:46:28<3:06:36,  8.61s/it][106m 36s (700 35%) 1.4611]\n",
      "When you are the real deaths of the hot adful have to meet out on counts to their delibion of a total  \n",
      "\n",
      " 40%|██████████████▍                     | 799/2000 [2:00:55<2:20:29,  7.02s/it][121m 4s (800 40%) 1.4343]\n",
      "What I won't know the pretending to tax the party of workers\n",
      " Emple uncertainty by able to curb the pr \n",
      "\n",
      " 45%|████████████████▏                   | 899/2000 [2:15:49<2:23:45,  7.83s/it][135m 57s (900 45%) 1.4034]\n",
      "White due to #COVID19 blamed midli... \n",
      "About #Michigan passing about the last on feet forced with the  \n",
      "\n",
      " 50%|█████████████████▉                  | 999/2000 [2:30:05<2:22:21,  8.53s/it][150m 11s (1000 50%) 1.3994]\n",
      "What we set things we have to a rise in 'Charla and case that if your recorded by #Odisha ? Border fro \n",
      "\n",
      " 55%|███████████████████▏               | 1099/2000 [2:45:05<2:08:34,  8.56s/it][165m 12s (1100 55%) 1.3633]\n",
      "What in #Initia is away a medic bit breath from Covid South and Tramp's simple of 47 a mass in sad by  \n",
      "\n",
      " 60%|████████████████████▉              | 1199/2000 [3:00:29<2:15:09, 10.12s/it][180m 42s (1200 60%) 1.3771]\n",
      "Why can needed to an bumb our community County and 170,000+ US - it is a provincially 10 millions supp \n",
      "\n",
      " 65%|██████████████████████▋            | 1299/2000 [3:16:44<1:37:27,  8.34s/it][196m 51s (1300 65%) 1.3493]\n",
      "What Abzoines.\n",
      "\n",
      "Can more workers to work on the pressurvation from the pride of the fatianises have th \n",
      "\n",
      " 70%|████████████████████████▍          | 1399/2000 [3:32:51<1:20:36,  8.05s/it][212m 59s (1400 70%) 1.3533]\n",
      "Why are *thesents and so much with very two favin schools you navicularly bad for a couf... \n",
      "A bics wh \n",
      "\n",
      " 75%|██████████████████████████▏        | 1499/2000 [3:47:00<1:05:02,  7.79s/it][227m 7s (1500 75%) 1.3745]\n",
      "While they are #TrumpIsNotHact the #covid19 \"We, the country halfiy with the Day from #COVID19 pandemi \n",
      "\n",
      " 80%|█████████████████████████████▌       | 1599/2000 [4:02:16<52:30,  7.86s/it][242m 24s (1600 80%) 1.3943]\n",
      "Whene #COVID19 #dangerous #ingerifief \n",
      "\n",
      "@wthenic @DrRict7 @JohnCanav @NJM @newsiletabreselve  #GOP #co \n",
      "\n",
      " 85%|███████████████████████████████▍     | 1699/2000 [4:15:25<40:09,  8.00s/it][255m 31s (1700 85%) 1.3409]\n",
      "When #USA 299 #coronavirus #trecovercourity in the news: Didn't unemployment, something ghot a pandemi \n",
      "\n",
      " 90%|█████████████████████████████████▎   | 1799/2000 [4:29:32<30:08,  9.00s/it][269m 41s (1800 90%) 1.3759]\n",
      "What spended the negative worldwides are over and children won't shown... \n",
      "@realDonaldTrump manesa tha \n",
      "\n",
      " 94%|██████████████████████████████████▋  | 1876/2000 [4:40:52<17:42,  8.57s/it]"
     ]
    }
   ],
   "source": [
    "!python train.py negative_tweets.txt"
   ]
  },
  {
   "cell_type": "code",
   "execution_count": 5,
   "id": "c1d72b86",
   "metadata": {},
   "outputs": [
    {
     "name": "stdout",
     "output_type": "stream",
     "text": [
      "A #maybon #unioners \r\n",
      "Covid ikoog never postported the Banged from Trump strict sign in the last 24, Americans from the damn #COVID19 pandemic is #pearity everyone supposed to this... \r\n",
      "402 new cases and 800 more #penriciphels don't caused without #covid19 \r\n",
      "\"The #COVID19 pandemic. #critizes #covid19 #life #poll #TrumpViaston #COVID19 #CoronavirusPandemic #Coronavirus #Covid19 #TrumpIsAMadJustia, #COVID19 \r\n",
      "This is then was killing the #Covid19 restaurants in #COVID19 today in the same in the pandemic is who does not #covid19 patients have died of... \r\n",
      "If you do used to lie: on months to use to #UK times is abo of contriction, should be actually cross the #COVID19 vaccines businessing to attack many p... \r\n",
      "@senatemajldr Borky afwork #COVID19 #coronavirus \r\n",
      "\"If this is going or on #covid19 in the #COVID19 pandemic. \r\n",
      "@SniborkhNews @Andrews Nearly 57K \r\n",
      "\r\n",
      "2 deaths in Gullions #coronavirus \r\n",
      "@TrumpWallPod Not to be easily stop the virus cases reported in last 24 hours.\r\n",
      "\r\n",
      "This is a national benefit and\r\n"
     ]
    }
   ],
   "source": [
    "!python generate.py negative_tweets.pt --predict_len 1000"
   ]
  },
  {
   "cell_type": "code",
   "execution_count": null,
   "id": "8a57d1c8",
   "metadata": {},
   "outputs": [],
   "source": []
  }
 ],
 "metadata": {
  "kernelspec": {
   "display_name": "Python 3 (ipykernel)",
   "language": "python",
   "name": "python3"
  },
  "language_info": {
   "codemirror_mode": {
    "name": "ipython",
    "version": 3
   },
   "file_extension": ".py",
   "mimetype": "text/x-python",
   "name": "python",
   "nbconvert_exporter": "python",
   "pygments_lexer": "ipython3",
   "version": "3.9.5"
  }
 },
 "nbformat": 4,
 "nbformat_minor": 5
}
