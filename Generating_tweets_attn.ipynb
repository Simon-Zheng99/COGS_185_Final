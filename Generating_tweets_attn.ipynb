{
 "cells": [
  {
   "cell_type": "code",
   "execution_count": 1,
   "id": "a1de3ca2",
   "metadata": {},
   "outputs": [
    {
     "name": "stdout",
     "output_type": "stream",
     "text": [
      "Antion #LosedOnHelring released on millions of governed like anti-mask me the one of the help even total faced Will #NaradatesBecl... \r\n",
      "County. guy. #coronavirus #CoronaVirusUpdate #COVID19 cases ago, #COVID19 in #COVID19 to inact down is the suspital... \r\n",
      "'The CDU lying. \r\n",
      " \"\r\n",
      "\r\n",
      "This if that not me I'm had a modical state of their residents on #COVID19 has the countins... \r\n",
      "\r\n",
      "How me famor down, it's both is not admitisters from Dr. More #COVID19 crisis is ain't new strongly cloca... \r\n",
      "When #PREAC wearing #COVID19: \r\n",
      "We know that you'll have poy... \r\n",
      "A #wearaPolitic and stupid payers restrictionsed.\r\n",
      "\r\n",
      "The #BigetAnomors is not acting many of Federal sanjanysing consided #bitfeeecopliotime, #COVID19\r\n",
      "This make as #COVID19 (19,798; what see the unterminity of protester for... \r\n",
      "The real Driven Kasmask Victoria: not to term anyone we're how about schools who think to rest people say it is the virus is State or Covid19 fucking fully bans from COVID-19 is stational deaths in Looks to one of the dad from t\r\n"
     ]
    }
   ],
   "source": [
    "!python generate.py negative_tweets.pt --predict_len 1000"
   ]
  },
  {
   "cell_type": "code",
   "execution_count": 2,
   "id": "888a797c",
   "metadata": {},
   "outputs": [
    {
     "name": "stdout",
     "output_type": "stream",
     "text": [
      "Americans have safety from the Hsgrapps says like you saslown on fformal of #Covid19 enough to care ut i... \r\n",
      "#COVID19 #COVID19 #TrumpVirus \r\n",
      "Their #COVID19 and suice to sale of people have me... \r\n",
      "Republicans in the U... \r\n",
      "Coronavirus Case-S MORE AFFV HOUGED on #COVID19 on #COVID19... \r\n",
      "@ShegtBorning @realDonaldTrump Lone of sad in #Because it ass are stop public so questions. While on the last lost yourself Of #COVID19, they got Do IT STILL #Wears matched. \r\n",
      "\r\n",
      "2009 People Least #COVID19 country rises to ir all  these #COVID19 , Set a #covid19 data to the #Begivax restriction is not #sachergitefuse. Four workers losing in the same nor censored the morons in 4 years really needed to keep its still\"rational of the... \r\n",
      "So much presenting and could we take to school... \r\n",
      "China today... \r\n",
      "@ParyifoyNews Is Trump's brother since the other #COVID19 #CoronavirusPandemic\r\n",
      "@RoblamamdNews We know when that no kids until shown prognot much bills of pandemic. \r\n",
      "\r\n",
      "#COVID19 #CoronavirusPandemic #coronavirus #Coro\r\n"
     ]
    }
   ],
   "source": [
    "!python generate.py negative_tweets.pt --predict_len 1000"
   ]
  },
  {
   "cell_type": "code",
   "execution_count": 3,
   "id": "28f36067",
   "metadata": {},
   "outputs": [
    {
     "name": "stdout",
     "output_type": "stream",
     "text": [
      "Aram Albert here, and stupid ill of those such profes the due to #coronavirus cases gened to pass the fears of #Covid19 patients ..... \r\n",
      "The sports in thousands of stucy to the virus in #COVID19 restrictions of profits and the driude. #bassiness \r\n",
      "#Pakistan \r\n",
      "\r\n",
      "[10:00 GMT] #coronavirus #colositionile\r\n",
      "\r\n",
      "\r\n",
      "@Bitlina4_Paki shit to control to some is what after check on the #COVID19 and yesterday.\r\n",
      "\r\n",
      "Sad their nurses and... \r\n",
      "It is bloody of their famorio on #COVID19, lockdown... \r\n",
      "76 new #COVID19 coversed embran... \r\n",
      "This so stranes and super yoo both a drugh community supporting and are to his pandemic have kids #Covid19 #coronavirusuk the pandemic and... \r\n",
      "Everything    #COVID19 is at look.\r\n",
      "#India\r\n",
      "\r\n",
      "#COVID19. Masks is... \r\n",
      "@Fiahani Social livess in #Covid19 is a sancount. Total cases deump in #COVID19, schools much economic mask. \r\n",
      "Besh American deaths to the death toll of death toll... \r\n",
      "This is says. This is politicians in the state of thosed as affits the state is a still result of bull and schools...\r\n"
     ]
    }
   ],
   "source": [
    "!python generate.py negative_tweets.pt --predict_len 1000"
   ]
  },
  {
   "cell_type": "code",
   "execution_count": 4,
   "id": "4c9df6ca",
   "metadata": {},
   "outputs": [
    {
     "name": "stdout",
     "output_type": "stream",
     "text": [
      "American over  155,000 days, you saying counselor of the increased to... \r\n",
      "Why other political residents to be especially to cowed deaths of people. These cases to decrated to both of the elders like so delofical distancing... \r\n",
      "The vaccine, the next in #Covid19 truth to sure you are streeden think we fails around the my from this isn't they fod many seems to wonder... \r\n",
      "@ArRoSicJorg... \r\n",
      "#Covid19\r\n",
      "@elintn_ssengeileeCraqish @Louy @Imple_Kaw High a soxia we're not allowed to do the virus is a poor #COVID19 because of their cases and unioners who have the #COVID19 crisis will not lycrible to the closes quit of the guidbood to #COVID19 another for not protest to use has been struggled to infected workers &amp; tweet more due to the #COVID19 papers than the total to this was all their people in opened sanitizers protest violations and mental...\r\n",
      "\r\n",
      "#income #COVID19 #pandemic \r\n",
      "#TrumpVirus #CoronaVirusUpdate #facility #Covid19 rushed to wear a mask. That still say during #COVID19 would keep the state\r\n"
     ]
    }
   ],
   "source": [
    "!python generate.py negative_tweets.pt --predict_len 1000"
   ]
  },
  {
   "cell_type": "code",
   "execution_count": 5,
   "id": "1691257a",
   "metadata": {},
   "outputs": [
    {
     "name": "stdout",
     "output_type": "stream",
     "text": [
      "A Russia's very Home Battack of London Sprink of #COVID19 ...ourss on during an refusing professies. Many are rising this? \r\n",
      "#COVID19 #vaccines #isseenin9m... \r\n",
      "@realDonaldTrump #lockdown  #KeepMatbern Americans due to #COVID19 when young kids and in... \r\n",
      "The work is not thosed who step of many doesn't been especially persons died from #COVID19... \r\n",
      "They cause the most believe they lies stimule diablucise over these public are we can't be help. Coromand monspi... \r\n",
      "Learn states to downor, washing.  \r\n",
      "#ThisTollsNews #Covid19 #TitulyGranters... \r\n",
      "Concluize that's worse than #TrumpLiesAmericans deaths worldwide). Why Does are not as... \r\n",
      "He situogarad at a negatives deserves and shit because of the political with unbelieve they know you all the stopped but the locals for Hospites for the rest after the plan to distric stop positive... \r\n",
      "@SecNovolly In the struggar issues into the truth health are govery admitted to overne... \r\n",
      "#Covid19 have to... \r\n",
      "Why all all an elders sexemb your loss... \r\n",
      "So #COVID\r\n"
     ]
    }
   ],
   "source": [
    "!python generate.py negative_tweets.pt --predict_len 1000"
   ]
  },
  {
   "cell_type": "code",
   "execution_count": 6,
   "id": "0b2464e8",
   "metadata": {},
   "outputs": [
    {
     "name": "stdout",
     "output_type": "stream",
     "text": [
      "All #Covid19... \r\n",
      "Never putting not killed mothers have been to possibly the esperts scientistically for resists especially infected by they won't away #Covid19 #corona... \r\n",
      "USA distancel deaths to die. #issuence. #TrumpViolenced #teaching #COVID19 #TrumpIsAFailedAmerica\r\n",
      "@realDonaldTrump Working. Covid in the... \r\n",
      "@realDonaldTrump @ProfpyCare  \"The highest same  #Brazil #coronavirus #CoronaVirusUpdate #COVID19 #places restrictions in this #death toll in the nut and looks and are unlike their pushorm for #handling patients room loses for it. \r\n",
      "\r\n",
      "#COVID19 \r\n",
      "Completes must died of #covid19 should call and there's the population of #COVID19        \r\n",
      "#TrumpIsACompleteFailure \r\n",
      "America it... \r\n",
      "That is abo... \r\n",
      "@RJohSPolitics \r\n",
      "#COVID19 is not safe this via exper stak the #COVID19 mandatory Covid19 says and I didn't person profe... \r\n",
      "Barriors to erain here is playing in nort #COVID19 pandemic, embtilist when the virus - and risk a Has if we people so forget in #COVID19 in the shows higher for the pandemic\r\n"
     ]
    }
   ],
   "source": [
    "!python generate.py negative_tweets.pt --predict_len 1000"
   ]
  },
  {
   "cell_type": "code",
   "execution_count": 7,
   "id": "a82fb00c",
   "metadata": {},
   "outputs": [
    {
     "name": "stdout",
     "output_type": "stream",
     "text": [
      "America reliability killed #COVID19, artist so. \r\n",
      "\r\n",
      "#COVID19\r\n",
      "We have died from #COVID19 (22... \r\n",
      "It know the #COVID19 pandemic #CoronaVirusUpdate #COVID19 #CoronavirusPandemic\r\n",
      "In racism. #COVID19 estabns. \r\n",
      "Some jobs.\r\n",
      "\r\n",
      "This is unlikely apparents for all the lives thing homes car caused to go to the addressing someone if you cancel small would not charged with #COVID19 Consumers! Politicians blood in #ThisGendinarter it and stop anyone horrific restrictions, even the worst protest again asks Pradesh Manda Government is who \"restaurant pushed to care actually still religions and even the first manago... \r\n",
      "@foloker1 \r\n",
      "#HsOK\r\n",
      "\r\n",
      "@Signisma @Amy_isshiLainers You surving the next to got a sturging is the face has many products to make these potential... \r\n",
      "COVID-19 lockdown. Think was disgrace. The stop an... \r\n",
      "At you are in the bunder on over stupid that all the COVID19 have not promotestions in the last 2020 completes trump's watch. \r\n",
      "\r\n",
      "#quarantined @JoeBiden @RossScoordayviuus  ... \r\n",
      "The #COVID19 children\r\n"
     ]
    }
   ],
   "source": [
    "!python generate.py negative_tweets.pt --predict_len 1000"
   ]
  },
  {
   "cell_type": "code",
   "execution_count": 8,
   "id": "0931ceab",
   "metadata": {},
   "outputs": [
    {
     "name": "stdout",
     "output_type": "stream",
     "text": [
      "Armanda \r\n",
      "\r\n",
      "#diedCount #pandemic \r\n",
      "\r\n",
      "\r\n",
      "Contri... \r\n",
      "1; @TheResponse is factors. What's the state story didn't recession of your covid19. The #state employes. \r\n",
      "\r\n",
      "Here is now are like zerobour, but we can still either now act said the nations \r\n",
      "167,679 deaths robot sininted to immembating admited too stop anyone on my myserball profits. \r\n",
      "\r\n",
      "Do to The Chinese down\" \r\n",
      " anyone have regretting how must failed to insistled to schools, who would still a sign of #Covid19 deaths reported in #COVID19 #COVIDCriesister10 GOP real difficult messing i... \r\n",
      "Why donay's brinks million to show the most planets in #COVID19 tally in the mitch miss it is banks young thousands of damaus from #COVID19 has not #covid19 to #COVID19 in #TourhandAmericans not disinformation &amp; happone and shocking masks, and' comment &amp; charges alone in #Genioup and I had not be handling of pitch and are the #COVID19 and was hit the isabled, a pandemic has production in... \r\n",
      "They for single-day spike of 47,757 people go to the mortality \r\n"
     ]
    }
   ],
   "source": [
    "!python generate.py negative_tweets.pt --predict_len 1000"
   ]
  },
  {
   "cell_type": "code",
   "execution_count": 9,
   "id": "c7aba1c2",
   "metadata": {},
   "outputs": [
    {
     "name": "stdout",
     "output_type": "stream",
     "text": [
      "Americans should sure stupidstorial mass... \r\n",
      "@realDonaldTrump Immune expected. \r\n",
      "People such #Covid19. How streets of the park of though but wchere's programmest very lost me. Anyone by the nation isn't the News, the Biggest Sorry to come to take many small needs to over can not probably please the never customers are not supported ong to addressing that the nationa... \r\n",
      "Coronavirus biordwere of #COVID19 by held small died if the #COVID19 patients have died from #COVID19 behing is business for event protection against the students are fake an amaging store! This muzly \"failed everyone can't mask staff you allowed my from people of this... \r\n",
      "The patients are products to hospitality can deepers be a soon to be done and not post brought #covid19 transmission people of this isn't fried situation ?                               somewhed plague.... \r\n",
      "@ismanrainceDaton79ocTorm @Maskson_Resman \r\n",
      "@Kacisma @ceniti_terlong and you know sure me or about the total number of... \r\n",
      "\"Media has saying so inter\r\n"
     ]
    }
   ],
   "source": [
    "!python generate.py negative_tweets.pt --predict_len 1000"
   ]
  },
  {
   "cell_type": "code",
   "execution_count": 10,
   "id": "f3ab05bc",
   "metadata": {},
   "outputs": [
    {
     "name": "stdout",
     "output_type": "stream",
     "text": [
      "Aught The government if they were if the states increased on #COVID19 in #TrumpJenter is the lates #Covid19 reported in yeard of a diser mess to #COVID19 in the #COVID19 around staff still not people a #COVID19 #COVID19 #OdisonMiston talks due to #COVID19? What expect the students can take a problem!? They work against #COVID19 #coronavirus #CoronaVirusUpdate #COVID19 #CoronavirusPandemic\r\n",
      "Refuses to to many opent in #KoreaLights the only that for #COVID19. T#COVID-19. \r\n",
      "\r\n",
      "We feel it on #COVID19. I sad.  You... \r\n",
      "Public Selter remained to Sunday country and people jobs is calling spikes to die\" up social deaths in Americans says service international.\r\n",
      "\r\n",
      "The public health... \r\n",
      "Someone isn't it was failed to #covid19 experts, today on readed to death touch people have now.  You won't pill around a damn lossans are admitted to handled to all those are dying. \r\n",
      "\r\n",
      "It know've killing for all the most prodite working needs to endangers to go back to school qu... \r\n",
      "More on promb... \r\n",
      "Hamge (fores in #Tru\r\n"
     ]
    }
   ],
   "source": [
    "!python generate.py negative_tweets.pt --predict_len 1000"
   ]
  },
  {
   "cell_type": "code",
   "execution_count": 11,
   "id": "3fef847e",
   "metadata": {},
   "outputs": [
    {
     "name": "stdout",
     "output_type": "stream",
     "text": [
      "AP spent death counting actions in the correet, they don't look have change the increases, the measures to social distancing in the #COVID19 pandemic singly have the pandemic is #covid19 in the land to Don't contemployers on #COVID19. Everything. Total financial feel in 50 schools with children than @realDonaldTrump is for this is found still not make significant a fucking the pandemic. #collanced... \r\n",
      "So she making schools in Social Coronavirus Cases \r\n",
      "@Jeslim We here arrest sex continues me in #NoGoy after unlessing spiraling - have the chost hundorring from #Covid19 response, if you cancelled the promotes to 77 deaths &amp; not care as symptoms, someone states the virus: \r\n",
      "@realDonaldTrump is a children and pandemic. #COVID19 #TrumpViolengele #Covid19 #Pascautbatm\r\n",
      "Dictured to this pandemic all yet from heal coffin... \r\n",
      "This was supporting to cure workers and the patients of #COVID19 cases... \r\n",
      "@realDonaldTrump seems. They were lying at this isn't care for people of excusers mediating for \r\n"
     ]
    }
   ],
   "source": [
    "!python generate.py negative_tweets.pt --predict_len 1000"
   ]
  },
  {
   "cell_type": "code",
   "execution_count": 12,
   "id": "e70a1675",
   "metadata": {},
   "outputs": [
    {
     "name": "stdout",
     "output_type": "stream",
     "text": [
      "ADamphan inclination. The her track to common understand unions to re for all of #COVID19 infections?  Fuck in blamed by psychopaths with money for the #COVID19 pandemic tally in the datch what have been \"stablers in #WastewGansD... \r\n",
      "If the my toally says many person patient puts the fear comm... \r\n",
      "@AmysaLe_Hylieven @Nlendemic When ammigged a l... \r\n",
      "- people p... \r\n",
      "#coronavirus #trump #Bothans \r\n",
      "#quarantined #messuh #TrumpIsAcestMistractions #GOP #Covid19 #coronavirus  #racists #covid19 #CoronavirusPandemic\r\n",
      "Coronavirus asses in the case of hofgless in #Vijaid their dampary ridiculow the few mark. Colless faces the pandemic, they are also #COVID19 .\r\n",
      "\"#coronavirus ?... \r\n",
      "Ive consequines .... \r\n",
      "What down's mispolitics.\r\n",
      "\r\n",
      "They do masks in #NoveriansRepresting exposed with #COVID19 &amp; coming people think this online products stupid... \r\n",
      "@realDonaldTravi Social-died from psychopath in #COVID19 manies who have infected for the villar... \r\n",
      "@realDonaldTrump It's resources responsible to get to admit a\r\n"
     ]
    }
   ],
   "source": [
    "!python generate.py negative_tweets.pt --predict_len 1000"
   ]
  },
  {
   "cell_type": "code",
   "execution_count": 13,
   "id": "687ab546",
   "metadata": {},
   "outputs": [
    {
     "name": "stdout",
     "output_type": "stream",
     "text": [
      "Amangs #GOP Streened by #COVID19 patients. \r\n",
      "In can so staying is someone knows state in India corruption.... \r\n",
      "If COVID cases in the pandemic difficuling... \r\n",
      "#MaskedOlKinfertherman #COVID19 deaths in #Odishane leaving something down after continues to take a disruption in your restrictions workers from home... \r\n",
      "Today on #Covid19 to #COVID19... \r\n",
      "When they latest since people response to the positive the should be forging #COVID19 case against #COVID19 deaths, the other program in the pandemic is a #Sadheather of is #chartenged and 38 new deaths by the #COVID19 times. \r\n",
      "\r\n",
      "1,600 Americans died.\r\n",
      "\r\n",
      "Will the child's characta... \r\n",
      "@Lormabausing I never to admit to the last 1400 deaths &amp; the last 24 hours.The #COVID19 lab of thousands comparents. \r\n",
      "WORNOT\r\n",
      "\r\n",
      "These poses to know... \r\n",
      "Corruption lockdown and... \r\n",
      "@R67uhes I have been receluse to for the total number of choicial deaths in the last 24 hours.\r\n",
      "\r\n",
      "This is like suf the next virus next his football from #Covid19 today. \r\n",
      "It bloody #economy resta\r\n"
     ]
    }
   ],
   "source": [
    "!python generate.py negative_tweets.pt --predict_len 1000"
   ]
  },
  {
   "cell_type": "code",
   "execution_count": 14,
   "id": "d52b5033",
   "metadata": {},
   "outputs": [
    {
     "name": "stdout",
     "output_type": "stream",
     "text": [
      "Alletame... \r\n",
      "@Jacir Ka... \r\n",
      "@DrZelian2020\r\n",
      "The problem in #Odishand immigrate podierianity have died on their plest... \r\n",
      "But This shown #COVID19 in his part sooniate... \r\n",
      "@realDonaldTrump The rest of #Covid19 recovered to refuse @Violather Dassing as many have take their lack of esperts they... \r\n",
      "@SecPom @guardited @danagifib.. \r\n",
      "@MynandyBth #COVID19 \r\n",
      "@realDonaldTrump and someone dramated the every Coronavirus Patient Oh... \r\n",
      "Probler being blocked that something resigned capital deaths worldwide). That is the coronavirus (SunishModdern and proof the #Covid19 numbers is questioned for #COVID19... \r\n",
      "@GOP The #COVID19  strange.  The loves political family on #COVID19?\r\n",
      "\r\n",
      "What much from the dolenatouskill and avoid citizens, infection\" we says after single. \"do reach #covid19 has no how many of the #COVID19 incompetent ratch social face from he's inequitions to Governor surved referring as ban friend are not effects of #COVID19 ... \r\n",
      "Global assating doing the lis of the #COVID19 continued due to the n\r\n"
     ]
    }
   ],
   "source": [
    "!python generate.py negative_tweets.pt --predict_len 1000"
   ]
  },
  {
   "cell_type": "code",
   "execution_count": 15,
   "id": "7ad8145a",
   "metadata": {},
   "outputs": [
    {
     "name": "stdout",
     "output_type": "stream",
     "text": [
      "Andhara or posts the number of people do you think anyone have to suck football sponsors, now illness on horrified in TEXAI Leels for the #COVID19 issue. This #boridably #Texas disproportionately deniing during they are money closed about the long with this pandemic  \r\n",
      "#PaperTexact #COVID19 #corona #COVID19 #Covid might schools on changent's having the real... \r\n",
      "I don't have been instandly failed by the organs and some people are not as childhorations come\r\n",
      "to sad that he are ant as left in this street is to fuck out of the Citizens with #COVID19 become... \r\n",
      "The total doctor - doesn't think they know you to schools in a teachers as messi... \r\n",
      "Oh is plants to trace in the Covid eats spane sirning and massive #COVID19 deaths in #COVID19 tally in the US just should ears doomagent on millions for anyone being poor since the last 240 deaths (Very longradues... \r\n",
      "Praboodtaters are clims of study at a friend treat place, and program included esperately places to stupides..... \r\n",
      "Anti-masks worse; the \r\n"
     ]
    }
   ],
   "source": [
    "!python generate.py negative_tweets.pt --predict_len 1000"
   ]
  },
  {
   "cell_type": "code",
   "execution_count": 16,
   "id": "818291f9",
   "metadata": {},
   "outputs": [
    {
     "name": "stdout",
     "output_type": "stream",
     "text": [
      "ASBikars Post nearly 9 new deaths in #Kosneqns Th... \r\n",
      "The #COVID19 scaming and restrictions worse to working destants at a fook attacked who show it kids &amp; an elders that up stim on the end the virus is not about, someone supported our changed all the poses are being do... \r\n",
      "On @realDonaldTrump is particlaries decimated the #COVID19 enpore have been lines against #COVID19 serious the plan with #COVID19 in the last 24 hoursmoral destroying destroying the #COVID19 cases states in dal @CANinderTouDIDJEA \r\n",
      "Given young specially with the already dangerous that Florida has no restriction the #COVID19 pandemic have not everyone who seed a lit cases to crying my those that lost po... \r\n",
      "\"Bal day, missed in loss of country ri... \r\n",
      "Coronavirus have the economy at the number to second quartering blood active at ridicot. \r\n",
      "\r\n",
      "... \r\n",
      "@mighcumpin You misminist... \r\n",
      "@realDonaldTrace is the country country r... \r\n",
      "#COVID19 #coronavirus... \r\n",
      "Thousands of stand second under ethics! #COVID19 \r\n",
      "#MaskCoronaVirusUpdate\r\n"
     ]
    }
   ],
   "source": [
    "!python generate.py negative_tweets.pt --predict_len 1000"
   ]
  },
  {
   "cell_type": "code",
   "execution_count": 17,
   "id": "a9b95280",
   "metadata": {},
   "outputs": [
    {
     "name": "stdout",
     "output_type": "stream",
     "text": [
      "All #covid19 \r\n",
      "The economic and still that now broke what is more like photo won dangerous the pandemic is happening to smaviction of #COVID19 in #Covid19 deaths in #COVID19 is reached and Besh Trump, - #Mexico #TomorityNare \r\n",
      "Istrappiratarions emotional death toll cases systems\r\n",
      "\r\n",
      "\r\n",
      "But they wear mass \r\n",
      "@reallyup @CNN @BorisJohnson are dying and storming on #COVID19, lostending out of their lives to 177,700 in the last 24 hours.\r\n",
      "\r\n",
      "The #COVID19 Cases, are a spreading over family country in the last 24 hours.\r\n",
      "\r\n",
      "The #COVID19 #CoronavirusPandemic\r\n",
      "Loss on hest restoral, responsion at risks the stress.\r\n",
      "\r\n",
      "1. They are only disputelling without it at to be undurisonwomen politicians in #Evictors do you caused it won't have to want to @profiteScovers \r\n",
      "@RevewsAmelive0Manary Boris do you can says with #Covid19 pandemic for the #COVID19 \r\n",
      "@realDonaldTrump Ain is against stress in one sadded the shows political agencilities in the rate of relucy country.... \r\n",
      "Can't know #COVID19 in the sanstore of #COVID19?  \r\n",
      "\r\n"
     ]
    }
   ],
   "source": [
    "!python generate.py negative_tweets.pt --predict_len 1000"
   ]
  },
  {
   "cell_type": "code",
   "execution_count": 18,
   "id": "57f1fbdb",
   "metadata": {},
   "outputs": [
    {
     "name": "stdout",
     "output_type": "stream",
     "text": [
      "An apps, to the media place. #TrumpOconKegsa has isn't coropactions from the reason during a pandemic has one during a mask on mental #COVID19 #districu  \r\n",
      "@SpeoslyCoun We can't still sure forget in this deaths in expersing \r\n",
      "Why do people are strumits after the ments reveals to social distancing and.. I'm person.\r\n",
      "\r\n",
      "1. Because out of a sleel for you know what after why it allowa passed away on... \r\n",
      "The using  \r\n",
      "#COVID19 is theoried and one still matter #us work. \r\n",
      "#fathers so much back across the #COVID19 restrictions and products &amp; something we man protests to delice you've how dont had . I have results!!!\r\n",
      "\r\n",
      "That many death toll complicitized.                     435 and current state on the thousands of about agrademaction for #covid19 \r\n",
      "\"#COVID19 yesterday $1000 sexic. Brazil with the must psychopathic... \r\n",
      "If not world. It's continues to vote emotionally deaths in the Hospiots especially inept of #COVID19. \r\n",
      "\r\n",
      "#covid19 \r\n",
      "@scottend Over 60 people been jobs you do not working &amp; no detaiti\r\n"
     ]
    }
   ],
   "source": [
    "!python generate.py negative_tweets.pt --predict_len 1000"
   ]
  },
  {
   "cell_type": "code",
   "execution_count": 19,
   "id": "6da9ebb1",
   "metadata": {},
   "outputs": [
    {
     "name": "stdout",
     "output_type": "stream",
     "text": [
      "AMERITES to-sitter than disappointing too stags. Someone is facing my political things the suffered this still resident around it know that under the #covid19 in the last 24 lands - do to putting the pandemic restrictions are been still too scare. What's that a fraill's largh. So, or attacked for #COVID19 in the samelin... \r\n",
      "@realDonaldTrump \r\n",
      "\r\n",
      "#Coronavirus #coronavirus #CoronaVirusUpdateBlotfall #COVID19 #CoronavirusPandemic\r\n",
      "Is: \"ask #COVID19\r\n",
      "So my especiated the making more than the hot... \r\n",
      "If you can't super and posts who does Not the corruption or properts conspiracy in proper you than caused to care? \r\n",
      "\r\n",
      "#COVID19 #coronavirus \r\n",
      "#TrumpGrime... \r\n",
      "Contine it.\r\n",
      "#wastee #boscarrienimess #racist #COVID19 #AtomiLassing US spedical startizel to protect droper, only be anyo... \r\n",
      "I'm word of school illodishor to country insidely datans. #coronavirus #COVID19... \r\n",
      "The #COVID19 fatality strategy on #TrumpViole on #COVID19 and no, easoma; state lies... \r\n",
      "@TomikSHOT Updates not doing stay since a pandemic\r\n"
     ]
    }
   ],
   "source": [
    "!python generate.py negative_tweets.pt --predict_len 1000"
   ]
  },
  {
   "cell_type": "code",
   "execution_count": 20,
   "id": "9eb9172c",
   "metadata": {},
   "outputs": [
    {
     "name": "stdout",
     "output_type": "stream",
     "text": [
      "ASES\r\n",
      "I lose plan's Change and the president in #Unitei You says stops are dying system \r\n",
      "\r\n",
      "Students are confirst painful weekend and the lead.... \r\n",
      " #BlackLivesMatter \r\n",
      "\r\n",
      "Iverculs if you should social deeping usident. \r\n",
      " #MdeffensAxateBiden #Marrask #coronavirusuk #COVID19... \r\n",
      "It's callare due to #COVID19 resident of this is so many for #COVID19 continues to have been posted victims worry the #BLMBBs be plague of the total #COVID19 vaccines crisis. #COVID19 \r\n",
      "The number of COVID-19 #COVID19 and not world now. #COVID19\r\n",
      "You long to... \r\n",
      "In #Texas next outbreak in problem is breaking home stupidity to satized away for, da announce of the plan to destry to say the #COVID19 stimulentlesses that most single still making the damn mask &amp; they cause you know the #COVID19 pandemic deaths in With 29 New deaths in Contrask #Warriers #holitary #COVID19 #coronavirus #Coronavirus #Pooropen #colleging #COVID19 #covid19 \r\n",
      "#COVID19 \r\n",
      "\r\n",
      "READ LOSB... \r\n",
      "\r\n",
      "\"It is to fucker is the highest in #COVID19 in of the dauts d\r\n"
     ]
    }
   ],
   "source": [
    "!python generate.py negative_tweets.pt --predict_len 1000"
   ]
  },
  {
   "cell_type": "code",
   "execution_count": 21,
   "id": "7960977f",
   "metadata": {},
   "outputs": [
    {
     "name": "stdout",
     "output_type": "stream",
     "text": [
      "And outbreak Americans promoting people who know that BPE don't cares the only thees. So #WearAPantionalDanother. Ar... \r\n",
      "Seemsing this government is so strict #COVID19 has the damn brother, interviere, Scum the China is fallied furtly ppl in Herman in pillations. Total dog for own one too. \r\n",
      "This is blown to loss is so second stupid is not the corrupting president pandemic even if yourself, but storied the student to 33-20 cases and 16 deaths reported in the se... \r\n",
      "@realDonaldTrump @USon the same people safety and no doctor is what is the methy of here in the last 24 hours.\r\n",
      "\r\n",
      "The Govt disease in whole here, we can't seems and the pandemic will be in government alone to covid someone still cancer \r\n",
      "\r\n",
      "Global Pandemic This Is's losing #homa; social distancing in #Trump divasing is a change... \r\n",
      "The think the next of the 50 inducts\". \r\n",
      "\r\n",
      "We are speaked the cases and the people have the spread one of the population, how idections by calling about the problem at risk the metact is a hoad on somethin\r\n"
     ]
    }
   ],
   "source": [
    "!python generate.py negative_tweets.pt --predict_len 1000"
   ]
  },
  {
   "cell_type": "code",
   "execution_count": 22,
   "id": "bfcbc8a4",
   "metadata": {},
   "outputs": [
    {
     "name": "stdout",
     "output_type": "stream",
     "text": [
      "AKARELS who are been for the rising #COVID19 \r\n",
      "Is the stuck on months worldwide). This is strict contrors in the schools because of sciences about. This is being doctors, ass... \r\n",
      "Lee corruption the masks to even oblic part. #Moscoting #trumps #COVID19 #Toole #BlackLivesMatter \r\n",
      "\r\n",
      "Every 2,007 people we know that 2000\r\n",
      "#COVID19.\r\n",
      "So where used to the stupict impact sell the shameful to the number of such viewil is how to risk of coronavirus cases suddenly censormultion of #COVID19?... \r\n",
      "@Truth Sorry Toll CRUBIN WORST: PMO \r\n",
      "@CNN @FaseJPDET What wate?... \r\n",
      "@MightMan Inst thing every spread of the virus is being lifes, your fragars do the deliberate complaines is taken to not shoms... \r\n",
      "@Victoria @LrossAstomorier With the my, infection who doesn't belief it's now it is fake... \r\n",
      "It's addities are still for their worsen statistics counting #raosis... \r\n",
      "@drhinl19 That is so far a though... \r\n",
      "Spike of 4,657 deaths.  \r\n",
      "It says testing for #Covid19-damnia business don't care about the unity of Queenslien is \r\n"
     ]
    }
   ],
   "source": [
    "!python generate.py negative_tweets.pt --predict_len 1000"
   ]
  },
  {
   "cell_type": "code",
   "execution_count": 23,
   "id": "223e3804",
   "metadata": {},
   "outputs": [
    {
     "name": "stdout",
     "output_type": "stream",
     "text": [
      "Americans (1,951 deaths reported in Indian rates due to #COVID19 with politiconess. \r\n",
      "\r\n",
      "#coronavirus #CoronaVirusUpdate #Covid19 #pandemic #AnhealMedicalsOneTruther #LiverorFriffly #covid19\r\n",
      "Covid19, but their adequately Balas-testing &amp; the #Covid19 priots to go to commentaring attending a mass is still the pandemic, and a police about the locals... \r\n",
      "@CNN = more #COVID19 and as the number of people is down by shows and takent's having the second on saying #BoycottEping with my force of the ender to even me with this... \r\n",
      "This is a violence attacks states than their lives to school and a birdhy or attacks to know the next since those are sneezes. #COVID19 Deaths: I real people must have the political has not before the #COVID19 cases: 159,174 from #COVID19.  Americans sanitizer a... \r\n",
      "One of the many have done. The harmens \"in misproportional \r\n",
      "@son @sechegorbolnmard @realDonaldTrump \r\n",
      "#CoronaVirusUpdate #CoronaVirusEFUPE #COVID19 is of #COVID19 tally in the states untild #PaonRossion in te\r\n"
     ]
    }
   ],
   "source": [
    "!python generate.py negative_tweets.pt --predict_len 1000"
   ]
  },
  {
   "cell_type": "code",
   "execution_count": 24,
   "id": "515c4430",
   "metadata": {},
   "outputs": [
    {
     "name": "stdout",
     "output_type": "stream",
     "text": [
      "Amer \r\n",
      "In the course of this addresed of the rises of #COVID19 cases genders those who do using, it's been enti... \r\n",
      "Step states stroked. That does someone would paying it down #COVID19 is on our leaves Meanwhile homes and surprising to restor #COVID19 patients were affords are onlines for this #CoronaVirusUpdate #COVID19 the mand of #COVID19 rest due to #COVID19 lockdown comparitiais clear died of #COVID19\r\n",
      "\r\n",
      "Never been reported in the fear of Lahourt at #Delters were for I'm so/tality due to #COVID19 on the stupict destroying the shouldn't away on everything @KobernMeidate Country\" pandemic is a life... \r\n",
      "@Sanitetually You have poscies in #Telanganaty of Scott Social vaccines won't @realDonaldTrump's worst... \r\n",
      "@MayorRonsNoomsavatoody stupidity of the #COVID19 \r\n",
      "Trump think' saying up today, the administration by country. This is not just brought all the elders in the country, kids in the incompetent on your plan... \r\n",
      "Why is many took people can 'SARS-- many students? )... \r\n",
      "The #Covid19 cases\r\n"
     ]
    }
   ],
   "source": [
    "!python generate.py negative_tweets.pt --predict_len 1000"
   ]
  },
  {
   "cell_type": "code",
   "execution_count": 25,
   "id": "ef93a7f7",
   "metadata": {},
   "outputs": [
    {
     "name": "stdout",
     "output_type": "stream",
     "text": [
      "Americans have died from #COVID19 (22.6% of hard of this is listered as you for the pandemic. #pandemic #COVID19\r\n",
      "@Notor @SleafeN2020 O, poor last but this espec in South Africa, is articles, services ago. It stop all of employes someone says the corlegets policies on your family records 170,000+ deaths is not to the mort in Chinaver.\r\n",
      "\r\n",
      "\r\n",
      "Ona\" issues in from someone than promotical one by #COVID19 is the mail to the death of thousands of changent becomes on in places to 146 new deaths worldwide). That did to #COVID19... \r\n",
      "We're through to ? #COVID19 #TrumpVirus #alerell #covid19 #coronavirus #COVID19 #borisvoteofnoconfidence, #kishyby #mandato #COVID19 #pandemic #covid19 #boatsions \r\n",
      "\r\n",
      "\r\n",
      "@hythm England's around to working and will continue to anyone of the next drinking keep, disgusting stolated by hoax. It is defended on contine not be stupants to stop to #COVID19 and hospitals useless and finds places to saveles have been reported in this #niformater... \r\n",
      "@TruthchNews @ProfpCrivures @realDona\r\n"
     ]
    }
   ],
   "source": [
    "!python generate.py negative_tweets.pt --predict_len 1000"
   ]
  },
  {
   "cell_type": "code",
   "execution_count": 26,
   "id": "b0ad55ab",
   "metadata": {},
   "outputs": [
    {
     "name": "stdout",
     "output_type": "stream",
     "text": [
      "AN #COVID19 \r\n",
      "That's sad to see it's close... \r\n",
      "This is a death law show proficiallion in the select in #COVID19 sense of #COVID19 would go many deep. \r\n",
      "#TrumpIsUndered \r\n",
      "@barurnyancforn @ANIDeSizenBontana is anyone more than disgusting and Victoria: Could sension to stop it was died but these playing the #COVID19 after continues to look at the #COVID19 cases havo distructions, bars have choices and more than 100 stewial distancing a... \r\n",
      "Policers, Officer a reight to the next on the pandemic, until it's governed outsidents because of this eight fucked - 140,790 person chains are a restaurant my feel about the positive to 174K. Work in the last 24 hours, continues. The #COVID19 deaths in this... \r\n",
      "@tre @Donaldratkuo In proving the virus! \r\n",
      "The next curne: \r\n",
      "#COVID19 issues and the nation-&amp; accolded going our largest needs to mean on holiday... \r\n",
      "It's bad #Tory and COVID-19 | Kifed, Spain the problem is protional number of people in problems. \r\n",
      "\r\n",
      "#Covid19 \r\n",
      "#COVID19 \r\n",
      "Why can't say for sanitizers\r\n"
     ]
    }
   ],
   "source": [
    "!python generate.py negative_tweets.pt --predict_len 1000"
   ]
  },
  {
   "cell_type": "code",
   "execution_count": 27,
   "id": "f06ff77f",
   "metadata": {},
   "outputs": [
    {
     "name": "stdout",
     "output_type": "stream",
     "text": [
      "Americans have falling a way to died who was explained to all where have been comm... \r\n",
      "In #COVID19 patients being for the economic agen food to complete social pandemic,... \r\n",
      "@BorisJohnson I could have... \r\n",
      "Thoughts in daily deaths worldwide). That is the DC\r\n",
      "Chunch plans with the virus without profits to do somic into spread of #COVID19 cases in the pasts -- the largest needs to increases to patients in the s... \r\n",
      "@abtcont  WT1 infected a world. You during the same people to worsened we are placed to even unsafe piesses down episode that elders. Belaring. 33 people for #Covid19 ya mask who were the positide ... \r\n",
      "I don't stop the slast... \r\n",
      "I am a protections in #COVID19 stating unhappest next spreading to #covid19 possible virus young that seems to owe -  \r\n",
      "\r\n",
      "                                  647 million and deaths in #SocialSpandemic desperate of #COVID19 national ph... \r\n",
      "Common fatalities are the country. Unstant #COVID19  is not completed without no months. #socialsPolitics #wearamases \r\n",
      "\r\n",
      "\r\n",
      "@\r\n"
     ]
    }
   ],
   "source": [
    "!python generate.py negative_tweets.pt --predict_len 1000"
   ]
  },
  {
   "cell_type": "code",
   "execution_count": 28,
   "id": "ea1764a1",
   "metadata": {},
   "outputs": [
    {
     "name": "stdout",
     "output_type": "stream",
     "text": [
      "Amongstanda Coronavirus measures of plan to the #RentisDue and the virus is chooses on in worse dispropoent effectives and question to complete of the polrying . #COVID19 #CoronavirusPandemic\r\n",
      "\r\n",
      "But up or more the next Here's system Quenzed... \r\n",
      "Death Leader if I'm not full #COVID19... \r\n",
      "\"make boarches and though, destroying scam of the Police (Germany #Palestices weaks on kids means, play the mental system cases and dangerous and the life because of #COVID19 Even I look. Coronavirus cases in the stage plan in the country honement my governments are vaccines in #India's #COVID19 s... \r\n",
      "Trump is instal. #covid19 \r\n",
      "\r\n",
      "\" #Americans \r\n",
      "#India #Covid19\r\n",
      "#MediisMonto #COVID19 #banking #COVID19 #Governor #Singlahmember #TrumpVirus #covid19 #boring #COVID19 is an... \r\n",
      "India and they think the store in the minds on many? This is real defenders are still so much &amp; this is not gone is idea against not to the COVID-19 is what's an infection, especially and how m... \r\n",
      "#hurmantic still back its thought if it \r\n"
     ]
    }
   ],
   "source": [
    "!python generate.py negative_tweets.pt --predict_len 1000"
   ]
  },
  {
   "cell_type": "code",
   "execution_count": 29,
   "id": "fc350479",
   "metadata": {},
   "outputs": [
    {
     "name": "stdout",
     "output_type": "stream",
     "text": [
      "Americans died it isn't we gotten have down and and we are both spread of #COVID19 in the my dreath in the nurse is scared on people have me the time... \r\n",
      "I can't brain the #COVID19 cases in the pandemic coronady non positive for evicture... \r\n",
      "@mitchump 140 trough and the pandemic. \r\n",
      "Why are affected on a Came That Winsen Hong Kong Spain of 2020. \r\n",
      "\r\n",
      "This is the pandemic will never mandatory moment for Deaths worldwide\r\n",
      "\r\n",
      "So is the virus\" is thought how Trump's responsible to every marke is Say tooce servant super questionwashings due to #Covid19 Passes a masy during this hard on #COVID19 on #alamilation: \"Instest country is a nices.                                                                 so far #COVID19 is what like... \r\n",
      "@isolgium How Only killed THE OF!NY Boil and stupid now impact that how many unlikesh #COVID19 and now incompetence: 776 new cases and 24 new deaths in #Telangana, #Sturgis #RofAssAffedsSalent #Covid19 #TrumpIsACompleteFailure #COVID19... \r\n",
      "Six run and #marning since Ma\r\n"
     ]
    }
   ],
   "source": [
    "!python generate.py negative_tweets.pt --predict_len 1000"
   ]
  },
  {
   "cell_type": "code",
   "execution_count": 30,
   "id": "8d093d5f",
   "metadata": {},
   "outputs": [
    {
     "name": "stdout",
     "output_type": "stream",
     "text": [
      "Americans              'the nations for if pandemic is ones, so those really certainly elsed to following its terrible for the course busites that places for masks! \r\n",
      "India who know the #COVID19 deaths in the system ... staff you called the population of the lack of #Americans have lead the 110k on family and disease thought by the rest been record!... \r\n",
      "To rerot Where's that the virus in #India, everything is like stay increased in place on the from boa... \r\n",
      "These people lost other! \r\n",
      "\r\n",
      "The months sneezes by the learning at taking admin says to go lip more than 50% to avaicty and a discrimin? \r\n",
      "THE First response to Scary with the effects of the state even the public need to sreason (... \r\n",
      "The social distancing is Americans we can so. Onting araside the worst patients are not infected with #COVID19 was in the feel like the most inpulaon on holidays and climbing to going on the next him of #COVID19 infectious \"someone issue that the faces more than 19 lives  #coronavirus #TrumpVirusPandemic #C\r\n"
     ]
    }
   ],
   "source": [
    "!python generate.py negative_tweets.pt --predict_len 1000"
   ]
  },
  {
   "cell_type": "code",
   "execution_count": 31,
   "id": "777803dd",
   "metadata": {},
   "outputs": [
    {
     "name": "stdout",
     "output_type": "stream",
     "text": [
      "All (USA #SocialSpandemic #TrumpTaFacking #COVID19 #CoronaVirusUpdate #COVID19 #Pathockthreeted #Covid19 \r\n",
      "\r\n",
      "Remember to take services. Strugvanaging, that they would knowend send and never workers in Americans discovered down on people who isn't chains says some with the looks to stands of #COVID19 cases in #India is not infected, some, someone are schools. The samened. Need to the pitue or elders who say this is despite the #COVID19 .\r\n",
      "\r\n",
      "\"#Germane \r\n",
      "\r\n",
      "New deaths in #Kenyadyo \r\n",
      "In they spending avoid poor to plan of arata... \r\n",
      "One the info... \r\n",
      "So they're #Health deaths of the #coronavirus mortality about #COVID19 killed COVID19. For deny Gahee now in the last 24 hours.\r\n",
      "\r\n",
      "The #COVID19 pandemic has died after the local number of people have. \r\n",
      "From the hard to recommer should be profits of the important and suckuse with Balence to 17,700 deaths in US COVID deaths in #Covid_19... \r\n",
      "Maybor who finds the virus is to nearly the #COVID19 pandemic\r\n",
      "\r\n",
      "Why responsible to continue that they know that it's dod\r\n"
     ]
    }
   ],
   "source": [
    "!python generate.py negative_tweets.pt --predict_len 1000"
   ]
  },
  {
   "cell_type": "code",
   "execution_count": 32,
   "id": "f34d5f76",
   "metadata": {},
   "outputs": [
    {
     "name": "stdout",
     "output_type": "stream",
     "text": [
      "An on an.... \r\n",
      "The part purchabout stupaged 7 day (from the virus is wo,ou contract... \r\n",
      "How wondersto finds #COVID19 #covid19 #TrumpIsAAlDateChama's #CoronavirusPandemic\r\n",
      "In USA betted by the virus, someone spending these far the nation in the last 24 hours of #COVID19. *#CorneRopoomemandemic had no lost soction!\r\n",
      "\r\n",
      "\r\n",
      "#COVID19 \r\n",
      "#students #COVID19 #pandemic #covid19 #andreexit in #India \r\n",
      "\r\n",
      "\r\n",
      "         32 sensetis must all top contagition aland use of #COVID19 so far the elded me els back to worse they can to blamed of on #COVID19 is only amongst seeing in the middles three for says society victims or handling to all promoting #Covid19! Continuess for point - Guis attacked to @JustEnateGuls and avicure sick. But is the next on supply that be like these positionated in the same thousands of another sadio that no hate it votely diaboles. Hobde does not you to stay mys who can be dropported in #Churches, another \"Fasce #COVID19 in #Thailand do that spended to of 25% of all does for... \r\n",
      "Dr. Ron Polic\r\n"
     ]
    }
   ],
   "source": [
    "!python generate.py negative_tweets.pt --predict_len 1000"
   ]
  },
  {
   "cell_type": "code",
   "execution_count": 33,
   "id": "bcc784ec",
   "metadata": {},
   "outputs": [
    {
     "name": "stdout",
     "output_type": "stream",
     "text": [
      "Ald, and the reasons to the iffice that make crites in their daily deaths can not making from the #Covid19 national distancing to be working 2.7    \r\n",
      "Those of the... \r\n",
      "\"#Covid19 +... \r\n",
      "@GOP Why Coronavirus numbers. \r\n",
      "Why don't know there will #dadad #COVID19 death toll to ...ca limpled... \r\n",
      "Put Doctors, Putink if the largetize... \r\n",
      "Kose defending stores due to #COVID19 in this #COVID19 #bases #COVID19 \r\n",
      "\r\n",
      "#Covid19 #Covid19 has pushed... \r\n",
      ". do if work. \r\n",
      "\r\n",
      "How the moment sick, and going to the most understaffenties is spread of #Covid19 deaths reported in #Geoth #COVID19 is #COVID19 as that and you can't they were 500 new cases and seeming today countries the hope @Billion_Mandemic When restaurant... \r\n",
      "\"The virus is this is \r\n",
      "\r\n",
      "Total consis from a results of... \r\n",
      "People #COVID19 is the global infactions. \r\n",
      "\r\n",
      "If it is still playing \r\n",
      "Joetter services are about the politic... \r\n",
      "Back of #COVID19 additional ecopled... \r\n",
      "If protect on the fight for all the People #coronavirus \r\n",
      "How removes to take things?  #stok\r\n"
     ]
    }
   ],
   "source": [
    "!python generate.py negative_tweets.pt --predict_len 1000"
   ]
  },
  {
   "cell_type": "code",
   "execution_count": 34,
   "id": "dcc7654f",
   "metadata": {},
   "outputs": [
    {
     "name": "stdout",
     "output_type": "stream",
     "text": [
      "ADT Resident Sacraise blood me all these ineqolenction funeral but I see the incompetent as not forget #COVID19 in #COVID19 cases again but the next stories around how more too essential wait their with anyone with?... \r\n",
      "Patilence pandemic \r\n",
      "\r\n",
      "[9:670 people will bad this people preventing the sad, slight young the odd US States is countries have to the back in the last 24 hours.\r\n",
      "\r\n",
      "The #COVID19 pandemic and the next on a lot of threats this narrative prop... \r\n",
      "#DANYN 2 wealth... \r\n",
      "@realDonaldTrump How because of #Covid19 in the Countiit to do somed States: #COVID19 tally in Viewards or POTUS ...ourgoned with this island, no is this is annyand on #covid19... \r\n",
      "Johnson likely to scry to comhose instead of thoughing if it is a life on some with the most one of the US #containing #Covid19 \r\n",
      "1ner\" *SCED \r\n",
      "@Yourallami @CSACS_AsFamptemonia @KayclottYoungs @RallySolvers @CKetpoce It's the killing out of #COVID19... \r\n",
      "@MaybeMy State on my #COVID19 and their symborand deaths to the fielded country in the #C\r\n"
     ]
    }
   ],
   "source": [
    "!python generate.py negative_tweets.pt --predict_len 1000"
   ]
  },
  {
   "cell_type": "code",
   "execution_count": 35,
   "id": "fe9f825b",
   "metadata": {},
   "outputs": [
    {
     "name": "stdout",
     "output_type": "stream",
     "text": [
      "Amouning Last 24 million cases \r\n",
      "@Pnet Hey all their post #COVID19 outbreak more against one to estimated as many puts in #Covid19 is like it retail there went kids he all those to... \r\n",
      "The #COVID19 pandemic reported in the last 24 hours in Science in #Sady is spread of fears to spread #covid19? \r\n",
      "\r\n",
      "#westel #Media #CoronaVirusUpdate #COVID19 #CoronavirusPandemic\r\n",
      "If the most elders rurested no stops to safe... \r\n",
      "Why is those little change the position.  They called infecting anyone should lost even to trace: \r\n",
      "'State out of the economy.\r\n",
      "\r\n",
      "3,675\r\n",
      "\r\n",
      "Spike of 69,878 cases and 944 deaths by some of the #COVID19 pandemic infunty is children pp!TER staff have it numbers and stickeir for momcaulties and how many for any today, stands... \r\n",
      "@barsmittranecate #CoronavirusPandemic #TrumpVirus #coronavirus #CollegeConfine #COVID19 #coronavirus #CoronaVirusUpdate #COVID19 #Now are at or that she Governor supevent it is \"#TrumpVirus crisis...and infected a costs, total of their state in the stop yourself, and n\r\n"
     ]
    }
   ],
   "source": [
    "!python generate.py negative_tweets.pt --predict_len 1000"
   ]
  },
  {
   "cell_type": "code",
   "execution_count": 36,
   "id": "96414efe",
   "metadata": {},
   "outputs": [
    {
     "name": "stdout",
     "output_type": "stream",
     "text": [
      "Americans see that COVID-19 is strandesthing on an... \r\n",
      "#COVID19 complication safety president populations state 15 people are been #covid19 would never based on. Homeless every suedf... \r\n",
      "It's just about the person in placeds. \r\n",
      "Covid death, this addressing their last things deaths that he is all but \"I feel working problems. Worthes the single-day on anyone in the need in the country rappres of being citizens put were \"government economic workers are post this virus cases.                 \r\n",
      "\r\n",
      "Nearly 751,000s.... \r\n",
      "I don't think... \r\n",
      "Police people we are all of the #presidents, these people to  #COVID19 is a restaurant. \r\n",
      "\r\n",
      "This is not closed at a full over #COVID19 is me, FLU, and died of #COVID19 Syria does are so dumb due to #COVID19 on so we did the ch... \r\n",
      "160k+... \r\n",
      "@AgyNermonStood Can't crefuring to think the paying is too many doesn't have divided in maintic plans of changed a the refuses of #Covid19 restrictions and more... \r\n",
      "@Michapmen2020 @GovAncillenHard @elisioors #Covid19 169,174 Col\r\n"
     ]
    }
   ],
   "source": [
    "!python generate.py negative_tweets.pt --predict_len 1000"
   ]
  },
  {
   "cell_type": "code",
   "execution_count": 37,
   "id": "e43f8c4d",
   "metadata": {},
   "outputs": [
    {
     "name": "stdout",
     "output_type": "stream",
     "text": [
      "America in #politics have the state issues to be please. Homes, why old hell on ended that on the #COVID19 umer far from US are maters and suffering on #covid19... \r\n",
      "Coronavirus are systems anyone he would something issues people of this is never closed on #PubsAmericansDeaths in #TrumpGretherer ... \r\n",
      "Shoot don't working #pandemic #COVID19 \r\n",
      "\r\n",
      "The only take the potential reopening to routines has like someone matter that he say #still #Covid19 are infected by #Covid19 we issue, the long.... \r\n",
      "@realDonaldTrump \r\n",
      "#SocialsHAmelines #KillerBecarisumors \r\n",
      "#COVID19 is so far a mask in this question, stop toxic into COVID-19 is not the back on someone to more deaths in #Assposts In #COVID19 is answers than threat down one people warning shit as #TrumpGestage is seqolations. #CoronaVirusUpdate #COVID19 restriction of hotel sex positionated profiteiness. #COVID19 #SecondPeaks #ChinaVirusUpdate #COVID19 #CoronaviyNothersUp... \r\n",
      "#boridion #ausparedperty #politics #global #CoronaInficaLed #COVID19 \r\n",
      "\r\n",
      "\r\n",
      "I don\r\n"
     ]
    }
   ],
   "source": [
    "!python generate.py negative_tweets.pt --predict_len 1000"
   ]
  },
  {
   "cell_type": "code",
   "execution_count": 38,
   "id": "4d30827a",
   "metadata": {},
   "outputs": [
    {
     "name": "stdout",
     "output_type": "stream",
     "text": [
      "An either #coronavirus #TrumpPeople #BLM \r\n",
      "@realDonaldTrump You slow their leave. #TrumpViolences #CoronaVirusUpdate #COVID19 #CoronavirusPandemic #COVID19 is Kose people have died of #COVID19 system putting on #Government of the firstenth in one masks don't stand behing on of the disinder -- by National district were... \r\n",
      "@ErinMPaveelala... \r\n",
      "The Healthcare Plarents now election of with #Covid19 in #India dropless of #COVID19 in the country ri... \r\n",
      "Worldomets can think that now, it you flu bank in few dumbay toll to wear mask of SCruny exposed to take locked civerst ... \r\n",
      "The #GovernmentFacebit the government claims from This is once single saturday, and it is all horrised to the next shortages of thousands recruct now the death in #COVID19 tally in #Swaves\" are serves to change... \r\n",
      "I am untilding response.  \r\n",
      "                  #Covid19\r\n",
      "@DrStolyEVEES YOUN LIES MUTTH #Covid19 suffered and destroyed a postmedical questions and not words don't needs the dibing but in #FakeNewsAlemore instest pl\r\n"
     ]
    }
   ],
   "source": [
    "!python generate.py negative_tweets.pt --predict_len 1000"
   ]
  },
  {
   "cell_type": "code",
   "execution_count": 39,
   "id": "979c07cb",
   "metadata": {},
   "outputs": [
    {
     "name": "stdout",
     "output_type": "stream",
     "text": [
      "AndhrumpLies #COVID19\r\n",
      "#COVID19 #pandemic #bashed \r\n",
      "@Police @TamLAn @siblingshmigherming @MasHon \r\n",
      "The Chinese namies on the leader... \r\n",
      "#COVID19 \r\n",
      "@lnk52019900 America virus has the USA Trump is populless? Put botes more inemded to reach the students with the virus... \r\n",
      "@dsalNoopee The nearly not refrotes alone, the patients with friend of though and a death toll... \r\n",
      "On @realDonaldTrump from  go on your fakes been public in the workers and morn that conspirece fires \"#Covid19 #COVID19 #TheHarters \r\n",
      "#Covid19 \r\n",
      "*Still district. \r\n",
      "Pandemic really died of #COVID19 patients are explains for the total cf is not soon to your into completent positive consequing tra... \r\n",
      "The Collamic, why is idiot of the pay slunded also not get anity being the nations, sto police be fly you... \r\n",
      "You know.... #DonaldTrump \r\n",
      "@ProceLi Who are not that Covid-19 admits to stop to share out in the mortality of #COVID19 agres... \r\n",
      "Last 24 hours.T.... \r\n",
      "Plaose from the effice and not forget selfish without grandmother against Can't\r\n"
     ]
    }
   ],
   "source": [
    "!python generate.py negative_tweets.pt --predict_len 1000"
   ]
  },
  {
   "cell_type": "code",
   "execution_count": 40,
   "id": "44962dc6",
   "metadata": {},
   "outputs": [
    {
     "name": "stdout",
     "output_type": "stream",
     "text": [
      "Andhurrol Hospital is Donald Trump can someone much people complications or awailure the loca... \r\n",
      "We are \"created profit of your continue to rest on protest down to terrier one of the #COVID19 data today. #COVID19... \r\n",
      "40 new cases and 1000 yeat lost us from the next to summer doctor are a teaching and incompetence is dead to so duning out on patients couple response to endoe.  The super of every damage to covid is... \r\n",
      "People saying #KirMireQoutEleGonder Toll Pail of #covid19 fatalities &amp; This is hit 36% of the last more than prospect another shouldn't go you they know the children and political quarantine site can r... \r\n",
      "#DonaldTrump What Hals: Kourrisrey who #CoronaVirusUpdate #COVID19 #CoronavirusPandemic\r\n",
      "I am the virus in the last 24 hours.\r\n",
      "\r\n",
      "There were as an injunder. #politics \r\n",
      "@marcolless Tue fuck of all esses basse people\" with money over the #COVID19 dropping on #COVID19 ? \r\n",
      "\r\n",
      "Have doing country r... \r\n",
      "Nearly than #PublicityPandemic \r\n",
      "#COVID19 cases to ... \r\n",
      "Ugh... \r\n",
      "The County is n\r\n"
     ]
    }
   ],
   "source": [
    "!python generate.py negative_tweets.pt --predict_len 1000"
   ]
  },
  {
   "cell_type": "code",
   "execution_count": 41,
   "id": "e42fbe01",
   "metadata": {},
   "outputs": [
    {
     "name": "stdout",
     "output_type": "stream",
     "text": [
      "A THE HATE WETHING NOT #COVID19 cross the address for the losing and time workers from the countinares are stopped to available down with #COVID19 ....... mandates #Marboy spreading more... \r\n",
      "@Jim_Jorgna Putansities - believe that he is a stimulural will things lost to all the pandemic number of people of the... \r\n",
      "This is a mask who rent on someone makes seems  from the school setting a place on notrapism early during the #CoronavirusPandemic? The potential isn't will not careful is the part of the #COVID19 pandemic is paying to diation of schools deaths worldwide). That is are the spread of #COVID19 in the U.S. deaths to #COVID19 experience against the hight who have do the miss the everydods, at 383 Prepandemic. #COVID19 #SKOCAN #COVID19... \r\n",
      "The #COVID19 deaths of #Common_Dictant. No of the next mandated twitter of Trump Eric, Of Redund Saturday humanity. #COVID19 #strategolers \r\n",
      "\r\n",
      "In the states are of #COVID19 #CoronavirusPandemic\r\n",
      "@SenRawian resold Twily pandemic. I have to reported in t\r\n"
     ]
    }
   ],
   "source": [
    "!python generate.py negative_tweets.pt --predict_len 1000"
   ]
  },
  {
   "cell_type": "code",
   "execution_count": 42,
   "id": "f9a4c40e",
   "metadata": {},
   "outputs": [
    {
     "name": "stdout",
     "output_type": "stream",
     "text": [
      "AGA Social distancing everyone meaning schools - eat these pgiry protections and actions of lead... \r\n",
      "@RatyAngeldinenry @SecPomperts and Bank this morning someone super 10 leave p and hiding into the Chinese is one of the next sexs in erkers and problems rushed to so impacts for the bord, how much you change #COVID19 in #COVID19 .....op and least 24 hours.The #COVID19 tally in order that communities, lost state they like a damn mandated for #COVID19. These spread the fuck they \r\n",
      "@mayurpsit @barschardle We today old infected plague... \r\n",
      "\"That's been businesses in the last 64,858 cases and 167,000 dead in Fraitor is where is the right for those Pun you should be into the stupid in the last 24 hours.The plandemic have real down on restorand by homes... \r\n",
      "Get thousands of the population me deaths of #COVID19  \r\n",
      "\r\n",
      "\"So you know for this These places\r\n",
      "\r\n",
      "-2041 new deaths reported in #COVID19 #CoronavirusPandemic #covid19 \r\n",
      "#Covid19 #eldedGoPortulycruz... \r\n",
      "Where's patients in particular active in #Biller\r\n"
     ]
    }
   ],
   "source": [
    "!python generate.py negative_tweets.pt --predict_len 1000"
   ]
  },
  {
   "cell_type": "code",
   "execution_count": 43,
   "id": "09d6386a",
   "metadata": {},
   "outputs": [
    {
     "name": "stdout",
     "output_type": "stream",
     "text": [
      "A #MonomicsParfettion \r\n",
      "@MLB Weahone Liers Country infections of #Covid19 to work their #plandemic today, the #inpoterned in the mother domby causing more imurd. 218.\r\n",
      "\r\n",
      "\r\n",
      "At you called pictures like that bear at the loss when a follow on their gas that help any most of the total deaths in #Greatmasnt This is response to the district for politizines for infections to #fucking #COVID19  is worrying failure of #COVID19 cases are simply for every day is slowssion to infected so\r\n",
      "Brainnell May Not is dramagocus on #COVID19 and the next protection from the #Coronavirus instrumption in #India,.\r\n",
      "\r\n",
      "#COVID19 #Novermanter Counts to the #COVID19 deaths on under a votch more daug during an elderations who say plague of the opened on your would should politication for the scammani... \r\n",
      "#Covid19 #GOP #Covid19\r\n",
      "@ASlatsavaruara \r\n",
      "\r\n",
      "Hey tweet up for children tand rages!! \r\n",
      "The Hone's my of humanity confirmed as delays more people w... \r\n",
      "My mokes in the same I stay something so many mayor the same to word of a #coro\r\n"
     ]
    }
   ],
   "source": [
    "!python generate.py negative_tweets.pt --predict_len 1000"
   ]
  },
  {
   "cell_type": "code",
   "execution_count": 44,
   "id": "e14d1a0d",
   "metadata": {},
   "outputs": [
    {
     "name": "stdout",
     "output_type": "stream",
     "text": [
      "American? #COVID19 #tackly ##COVID19  \r\n",
      "\r\n",
      "\r\n",
      "#Covid19 #masks,someworks... \r\n",
      "Here or in the simply has protect #foodoucations to the pandemic isn't 10 crisis hadmeady of 2020 seems stopped about today. I know, definitely \r\n",
      "\r\n",
      "The learning to do like with 38% of thousands of distances about the day than up\"th it. All even people in the Tramated not so delaying the countial pandemic has re-overneds me is really sans dead from #COVID19 in #BedCompletaci \r\n",
      "Bether... \r\n",
      "@NikkiHereCoup @AF #ContrivisVepinco Is the bath if there is your scury.\r\n",
      "\r\n",
      "This delied on poor #mostisned #ToryGan #COVID19 stop expert #economy were games to not you LO LIVE: The enderly long and then we were dying and its worldwide. Change and the packing everyther passengers under a #COVID19 tally in the last 24 hours over... \r\n",
      "@JoeBiden I know sorry for facing person, scared to scream #COVID19 #pandemic #COVID19 #tincess #TrumpVirus #coronavirus #postport #Covid19 \r\n",
      "#coronavirus | #chared #covid19 #coronavirus #CoronaVirusUpdate #COVID1\r\n"
     ]
    }
   ],
   "source": [
    "!python generate.py negative_tweets.pt --predict_len 1000"
   ]
  },
  {
   "cell_type": "code",
   "execution_count": 45,
   "id": "5ea89e96",
   "metadata": {},
   "outputs": [
    {
     "name": "stdout",
     "output_type": "stream",
     "text": [
      "Americans for someone everyone's p... \r\n",
      "Pationally displanes swu... \r\n",
      "@NYGovCuomo #COVID19 @JoeBiden  chared be matterd my workers, the wing out of #COVID19. Those who think this gno shopping one weron masks are words. I'm sociality hacked this problems lockdown died from #COVID19 #coronavirus #covid19 in #ToryWasRights, the #COVID19 refusest singless in the last 24 hours\r\n",
      "\r\n",
      "\r\n",
      "\r\n",
      "Who was attacked to curness with this promotal for... \r\n",
      "Here is so poy the way like add... \r\n",
      "\"Big worse to that #COVID19 ... \r\n",
      "First death toll in bloody another down, the #COVID19 bills are the result... \r\n",
      "#COVID19 as at the highest #lockdowns, we were lebief. \r\n",
      "\r\n",
      "You ignored because of the loved on #hoax is then they say you and the @realDonaldTrump is the countins \r\n",
      "\r\n",
      "#COVID19 I didn't use something it. Passionic due of #COVID19 Deaths \r\n",
      "#Kasshmbillions \r\n",
      "\r\n",
      "\r\n",
      "              \r\n",
      "  \r\n",
      "\r\n",
      "#middren \r\n",
      "@HorsedCaridingCovid19\r\n",
      "Coronavirus million colosing silards working from the worst elder, who think a ... \r\n",
      "@realDonaldTrump The social many p\r\n"
     ]
    }
   ],
   "source": [
    "!python generate.py negative_tweets.pt --predict_len 1000"
   ]
  },
  {
   "cell_type": "code",
   "execution_count": 46,
   "id": "d4c6c469",
   "metadata": {},
   "outputs": [
    {
     "name": "stdout",
     "output_type": "stream",
     "text": [
      "Andhra Bog worsened workers and prognoses spike of\r\n",
      "\r\n",
      "In Only this ships are not contract to see it worse that still killed in the last 24 hours.\r\n",
      "\r\n",
      "The #COVID19 pandemic\r\n",
      "\r\n",
      "Hom Bill, I have can make needs pro... \r\n",
      "#COVID19 is the #COVID19 pandemic to lose on their state, against to travel same of the #LRM &amp; state is... \r\n",
      "If the virus is not stolation to #COVID19 is sadded me the economy's national despite for... \r\n",
      "2020, the numbers about #COVID19 have done before the hardest businessed americans for #COVID19 and #COVID19 is programs because of #COVID19 infectirus\r\n",
      "\r\n",
      "New cases and 100 per destroying COVID-19 is not in the US safety \r\n",
      "#Lockdown #BlarminEse #uspolinia \r\n",
      "#COVID19 \r\n",
      "#coronavirus... \r\n",
      "It's spread over not positive... \r\n",
      "#COVID19... \r\n",
      "#collands #COVID19\r\n",
      "Putisped for Her Security all of the ones to see the locals spreads leadershit of the damn life behing supreedical state methods, or say coronavirus cases stranes calling homes to real doctor is placed after fully stop #PatientBlosives that\r\n"
     ]
    }
   ],
   "source": [
    "!python generate.py negative_tweets.pt --predict_len 1000"
   ]
  },
  {
   "cell_type": "code",
   "execution_count": 47,
   "id": "706fa32d",
   "metadata": {},
   "outputs": [
    {
     "name": "stdout",
     "output_type": "stream",
     "text": [
      "ArgaSp, of alcohol business something the 29137 new... \r\n",
      "@TravisDoberChing I was saying choris. We have been spread of #Jercest \r\n",
      "The #Europities, / Mopid States with the gimboldocous of contacts as COVID-19 is saying the pandemic is to your life person is outmaning played for #COVID19 \r\n",
      "\r\n",
      "The #COVID19 tally business supporters like charged on planned for celities are a plan said someone in the isn't is tweet #BorisJohnson in the middle of times results of #Covid19 and the virus, politicians were working and virus and me that have since the spread on protest agency mease cares were to have protecting #COVID19. #COVID19 #coronavirus \r\n",
      " \r\n",
      "It is not still dangers &amp; his social destroy save normal because of #COVID19 pandemic is system in the nations when they were putting #Covid19 can help, and his restors issue against SPORT ... \r\n",
      "Masmic informis: One of the manities. This isn't allowed that nation of our people. \r\n",
      "#COVID19\r\n",
      "@realDonaldTrump State of this past 24 hours.\r\n",
      "\r\n",
      "If you know downtly 10 \r\n"
     ]
    }
   ],
   "source": [
    "!python generate.py negative_tweets.pt --predict_len 1000"
   ]
  },
  {
   "cell_type": "code",
   "execution_count": 48,
   "id": "ab940409",
   "metadata": {},
   "outputs": [
    {
     "name": "stdout",
     "output_type": "stream",
     "text": [
      "Assoned Titnary limited in Last 24 hrs the fystre by t. \r\n",
      "\r\n",
      "Face the history, &amp; most terrible not will so many situation of thought that I have been careful... \r\n",
      "Many are parties around a lot of the #coronavirus cases in cases to dosh avoute this infected his stupidity broke in quarantine booking situops government screw due to the pandemic.  Why do you do some his tracked the state lives who doubleg \r\n",
      "\r\n",
      " #COVID19 #CoronavirusPandemic\r\n",
      "There is making from this is not ready policy to disgrace this is it was #COVID19 \r\n",
      "\r\n",
      "\r\n",
      "#CoronaVirusUpdate #COVID19 #SecondMidia #ToryMasks \r\n",
      "\r\n",
      "Gov to the other entimes back anythink this pandemic disapratest #COVID19 pandemic. It says who think thousands means the amyess immune spreading, claims about the #coronavirus behind the worst population and depression shouldn't only frequine for provender children proald protections and male... \r\n",
      "Heredies don't be completent if the pandemic doesn't have the incompetences of fires, the life, that spread of pet #loycers h\r\n"
     ]
    }
   ],
   "source": [
    "!python generate.py negative_tweets.pt --predict_len 1000"
   ]
  },
  {
   "cell_type": "code",
   "execution_count": 49,
   "id": "67adee7d",
   "metadata": {},
   "outputs": [
    {
     "name": "stdout",
     "output_type": "stream",
     "text": [
      "Andhman\r\n",
      "#COVID19 is still so this virus is their daily cases of cases \r\n",
      "\r\n",
      "Sadly. \r\n",
      "\r\n",
      "The fuck for gets who on #COVID19 in #Covid19 leave of #COVID19 is the  has nor any total deaths of thousands removed by a desent the healthcare words. \r\n",
      "\r\n",
      "So show &amp; less the facts - \"China most his worst plathers respiratory of sending as lives in coronavirus encycripts for the #COVID19 children safe. You mistakened #otap continues to supposened even thoughts mention. #COVID19\r\n",
      "\r\n",
      "@DondreblerowingLead Not here is the port, Narrious for people seems to @agerLikeston profit \r\n",
      "\r\n",
      "Where would be #COVID19 response:... \r\n",
      "In the globe honestly COVID-19 deaths in my day ??! Fox population sturgis data and due to #COVID19 .... \r\n",
      "\"Covid death #COVID19 tally in the last 24 hours.\r\n",
      "\r\n",
      "They #COVID19 patients are insured to 'go to fund of #Elscothersions \r\n",
      "New recless only Not their county in for  testing placed cases your humans.                                                                                                     \r\n"
     ]
    }
   ],
   "source": [
    "!python generate.py negative_tweets.pt --predict_len 1000"
   ]
  },
  {
   "cell_type": "code",
   "execution_count": 50,
   "id": "8f2e72f4",
   "metadata": {},
   "outputs": [
    {
     "name": "stdout",
     "output_type": "stream",
     "text": [
      "Americans have not stop tRump and suspecting #covid19, #COVID19 \r\n",
      "\r\n",
      "\r\n",
      "19 port. \r\n",
      "\r\n",
      "Some of zerent to let died from homes... \r\n",
      "Coronavirus is should be Corona for #COVID19 in the #COVID19 numbers everyone... \r\n",
      "I were loss in the last 24 hours.\r\n",
      "\r\n",
      "The part of the laws in the in... \r\n",
      "@BBTornSharing #COVID19 #pandemic #TrumpHonKir #Covid19 \r\n",
      "Boy flu bigger lost health spread of #COVID19 in the shame of pandemic is ass. \r\n",
      "\r\n",
      "#COVID19 Unabport Britain in the flight post of benefiated... \r\n",
      "Coronavirus  #Covid19 is a changet scam and hone schools... \r\n",
      "If safety who will not my problem masks and hom... \r\n",
      "@TravelvoteQodd Is I #Covid19 Deaths on #loting #COVID19 #bogurostric \r\n",
      "\r\n",
      "Brazily t... \r\n",
      "I brother. Stand of thought is response against suicide for #Covid19. BL It's many in the cost on #COVID19 shops the #COVID19 pandemic... \r\n",
      "@mosimonttracy manage of seni... \r\n",
      "Someone are a more important to school seems active of to time in the Neone Anda #dealines \r\n",
      "dangladesh today. Cases to pretend why restrums some anyther #un\r\n"
     ]
    }
   ],
   "source": [
    "!python generate.py negative_tweets.pt --predict_len 1000"
   ]
  },
  {
   "cell_type": "code",
   "execution_count": 2,
   "id": "56f7e2ba",
   "metadata": {},
   "outputs": [
    {
     "name": "stdout",
     "output_type": "stream",
     "text": [
      "Am #COVID19 can rock of #COVID19  \r\n",
      "\r\n",
      "The US the virus... \r\n",
      "Health mortality? What is day and the e... \r\n",
      "\r\n"
     ]
    }
   ],
   "source": [
    "!python generate.py negative_tweets.pt --predict_len 100"
   ]
  },
  {
   "cell_type": "code",
   "execution_count": null,
   "id": "6aa3892f",
   "metadata": {},
   "outputs": [],
   "source": []
  }
 ],
 "metadata": {
  "kernelspec": {
   "display_name": "Python 3 (ipykernel)",
   "language": "python",
   "name": "python3"
  },
  "language_info": {
   "codemirror_mode": {
    "name": "ipython",
    "version": 3
   },
   "file_extension": ".py",
   "mimetype": "text/x-python",
   "name": "python",
   "nbconvert_exporter": "python",
   "pygments_lexer": "ipython3",
   "version": "3.9.5"
  }
 },
 "nbformat": 4,
 "nbformat_minor": 5
}
