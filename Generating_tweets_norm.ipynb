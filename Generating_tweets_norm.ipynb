{
 "cells": [
  {
   "cell_type": "code",
   "execution_count": 1,
   "id": "69014c7d",
   "metadata": {
    "scrolled": true
   },
   "outputs": [
    {
     "name": "stdout",
     "output_type": "stream",
     "text": [
      "A) THE SILLT the #COVID19 death on the word by everysival getting that any ... against the death #COVID19 is more lack of #Ealitional away in #Many Swithout up\r\n",
      "People who are such the pandemic like secut our borchers in Americans are moron... \r\n",
      "Hand are the nation public supplies of work of threat of the risk of comm was put the sass the gone in the country. Family such as protest a find... \r\n",
      "@caidliangose @AdayMark1,315 as Trump is then system and the safety enough with #COVID19 has the nation to get corrupt bed at the most for public... \r\n",
      "The narrative by the number of bored cop treatment was died of this timeties worse in the economic regarding were he night to get that weeks, wait... \r\n",
      "@zonarro @Sunlate The health mistaked why authoritical doesn't be scientist a crisis medical ignorant for the suggests the whole country puts of ca... \r\n",
      "The #COVID19 cases of the virus in the risk of rest and deaths are no tourism the at... \r\n",
      "#COVID19 #WearAtries, Florida @PPE_ADESTPE THLL MAGEST isn't not \r\n"
     ]
    }
   ],
   "source": [
    "!python generate.py negative_tweets_norm.pt --predict_len 1000"
   ]
  },
  {
   "cell_type": "code",
   "execution_count": 2,
   "id": "26b87dd8",
   "metadata": {},
   "outputs": [
    {
     "name": "stdout",
     "output_type": "stream",
     "text": [
      "AKsFlows to wolding a procoper than a  #COVID19 #years \r\n",
      "Florida and sechorse at the wides of #COVID19 than the fuck of young of a country when his like allowed to consuration... \r\n",
      "Dement a lot it facility of #COVID19 (22. \r\n",
      "Trump religion on worrlets about committing deaths in from I be not be a cut fatalities.  #COVID19 #COVID19 #Coronavirus #COVID19 is no re... \r\n",
      "It inform is the meat every days we were of they're sacred to start suffering with me the #COVID19 deaths... \r\n",
      "@dremnor_dilgham @ZealanFrend She lies and security rupport\r\n",
      "#COVID19\r\n",
      "#CoronaViser \r\n",
      "#COVID19 #Funny For the femed in #covid19 cases between have belies it. Especurity who died.\r\n",
      "Here's under that's only fucterrieg... \r\n",
      "Masks are a pandemic season to be can't an @Marencorcamp @realDonaldTrump he iss #COVID19 spine and after Kishardier information taking business of #COVID19 we suwger of #Discover that as #COVID19 (22.5% of addition of these business away, we become a bible district femal with job from... \r\n",
      "@realDonaldTrump @G\r\n"
     ]
    }
   ],
   "source": [
    "!python generate.py negative_tweets_norm.pt --predict_len 1000"
   ]
  },
  {
   "cell_type": "code",
   "execution_count": 3,
   "id": "d8531101",
   "metadata": {},
   "outputs": [
    {
     "name": "stdout",
     "output_type": "stream",
     "text": [
      "Are the viol and impact #Covid19 scam have been and many mean suffering for the less days in a murdered... \r\n",
      "Or we know this records from 67,388 cases and home that their strumple if theory deadly distrim @Setandc Y'all controxide his makens\r\n",
      "\r\n",
      "And the... \r\n",
      "#COVID19 \r\n",
      "#COVID19 #BorisHasNowneds #vaccine #COVID19 #Coronavirus #the #COVID19 \r\n",
      "Florida but nose we were all of the scroons than made let adming troubling and the Dadnets be wikes that supporters. A... \r\n",
      "You can ever #COVID19 than recessions in #COVID19 since no crisis\" #COVID19\r\n",
      "#faceful sadly infection of Democrats live think the day. #BREAKING?, are a pandemic is what it over... \r\n",
      "LCammail I kill of an regiration of 7 deaths: 124 closused the pointing on the economic disasper system mishand #NewYorksyedCpland looking yet declids. many fataliving of the middle. Yet a covid-19 cases reported repertost being the Trump are now in @GOP #YOU by #COVID19?\r\n",
      "\r\n",
      "#Quaranter On the health westing in the #COVID19 cases in a media... \r\n",
      "@Clam_Ricsp @icha\r\n"
     ]
    }
   ],
   "source": [
    "!python generate.py negative_tweets_norm.pt --predict_len 1000"
   ]
  },
  {
   "cell_type": "code",
   "execution_count": 4,
   "id": "7376a1ce",
   "metadata": {},
   "outputs": [
    {
     "name": "stdout",
     "output_type": "stream",
     "text": [
      "A more #COVID19 deaths as what the pandemic etch-... \r\n",
      "Vaccine in the #Rahamoms conedcemed gout madling of none in the terribb of the #COVID19 death of do not heard - on #Covid19 out of a lots of #COVID19 on a great torized #COVID19.... \r\n",
      "@sandarm @realDonaldTrump's watch are now the pandemic country one &amp; @dbadanga #GMY #COVID19\r\n",
      "\r\n",
      "Today gave patient to r... \r\n",
      "There protested controlling that protests with the virus relief from #COVID19 worse positive. \r\n",
      "She forget a response a view what aver that... \r\n",
      "Basas into medicies and 155 deaths in 170,49 new #COVID19 can abrous #masks part to all the week by the seciz... \r\n",
      "@ASlaider Boygiat or not that caused in burdelet! We handlies landling protest to workers in podcas in #COVID19. Even at t... \r\n",
      "#COVID19 is all of the blood as of the #COVID19 loss to be an oppore in the futtloves... \r\n",
      "Because the virus is I rols and works of the pandemic, as the unper... \r\n",
      "He are state of the worried the aff of your or state with 3 - Global Leader 'siting so becom\r\n"
     ]
    }
   ],
   "source": [
    "!python generate.py negative_tweets_norm.pt --predict_len 1000"
   ]
  },
  {
   "cell_type": "code",
   "execution_count": 5,
   "id": "f316130c",
   "metadata": {},
   "outputs": [
    {
     "name": "stdout",
     "output_type": "stream",
     "text": [
      "ALL @Hulpiffybies... \r\n",
      "I am pushed #COVID19 narcissist be died of #Covid19 smalDied for the spread &amp; privates? We Massion YOU FYO, #stated mark of day not danation of #Covid19 - how than 50,000 #COVID19 results are crisis pandemic and the world. The vilution... \r\n",
      "@mitchelmes Theych is being state the death toll with concer to is here with... \r\n",
      "The Dedious Vijayawada about Trump who sites were support be death were increased died of #COVID19 rest my were a students confirm... \r\n",
      "#TrumpGaneLafe #COVID19 #pandemic #WearAtreatreriesTout #COVID19 has teachers amid that prison should incockdown to seems testings of years.  He is not happen... \r\n",
      "I don't get support fear weeks of #COVID19 but it to pretendenced \r\n",
      "@GovParsharroom social distancing made of reveries and  _ Meanwhite More than #COVID19 in Distakes. It is military to be the might a personading that's on the first person for concern this a lives as cre... \r\n",
      "@realDonaldTrump Why want in antiwn... \r\n",
      "I am likely a school of giver heard to pu\r\n"
     ]
    }
   ],
   "source": [
    "!python generate.py negative_tweets_norm.pt --predict_len 1000"
   ]
  },
  {
   "cell_type": "code",
   "execution_count": 6,
   "id": "fb6c9299",
   "metadata": {},
   "outputs": [
    {
     "name": "stdout",
     "output_type": "stream",
     "text": [
      "A #Kosework awfulirution system\r\n",
      "\r\n",
      "Will no what we are still dead. We sad used to true had that was have been months are daze fault... \r\n",
      "#COVID19 death toll rave protect of #Covid19 on Pubiru... \r\n",
      " Frace he discome still levels as Synavirus disease other in first guess. #COVID19 fingiops. Coverting what have... \r\n",
      "The #COVID19 in #Texating SOLD States when you are understand when \"fall stu in the #COVID19 pandemic scared pandemic and testing and reliem... \r\n",
      "@CrievelfKant @sonialian social report such a @eachersmadanga #COVID19 \r\n",
      "#COVID19 \r\n",
      "\r\n",
      "Can't econority affectory sambooid seaches watch that it. Have the worst we can don't lost #Masks &amp; what all of the fact is why @realDonaldTrump is a spreading to the public explain arrow in that closed... \r\n",
      "@RDSChisten you sate this economic dreaders are sad the future #COVID19 pandemic. #COVID19 #CoronaCara MUST HOMED by worries... \r\n",
      "#PortonTrump. The new death deaths of #COVID19 has #Victoria's #COVID19 in Telangoa killed have scare the every sense... \r\n",
      "S\r\n"
     ]
    }
   ],
   "source": [
    "!python generate.py negative_tweets_norm.pt --predict_len 1000"
   ]
  },
  {
   "cell_type": "code",
   "execution_count": 7,
   "id": "c36a326a",
   "metadata": {},
   "outputs": [
    {
     "name": "stdout",
     "output_type": "stream",
     "text": [
      "AL #disasterivation by the test safe and sees poll than the England is record with the reminder. #COVID19 #CoronavirusPandemic\r\n",
      "#COVID19 \r\n",
      "#COVID19 \r\n",
      "#COVID19 due to seems of the gather you don't come media leadersly single tough?... \r\n",
      "@BorisJohnson @Adeatervioo @rakodety been someon is about the quite for the #COVID19 watch and stay in from #COVID19 was not done that #COVID19 fucking number of, but the culture bill in #Americans understand many coll. &amp; the... \r\n",
      "On @realDonaldTrump @fovidator @Spendyray @SDUP Sead mia is lockdown country on #COVID19 school response to pake inlificon on everything. #WearAMask... \r\n",
      "@AdidstanConomy @risharifoterleyincolaid and Sander, I'm do your farm still belica failed the political deaths because it being to exposes. Father change... \r\n",
      "#COVID19 #COVID19 #COVID19 #COVID-19 crusted for #Covid19, #Covid19. It is no coronavirus was positive \r\n",
      "\r\n",
      "[18:50 GMT] #coronavirus #COVID19 #Coronavirus #COVID19 #CovidIsTrumpVirus #TrumpIsCovid #Nhosall deaths from gopes and\r\n"
     ]
    }
   ],
   "source": [
    "!python generate.py negative_tweets_norm.pt --predict_len 1000"
   ]
  },
  {
   "cell_type": "code",
   "execution_count": 8,
   "id": "015f07a1",
   "metadata": {},
   "outputs": [
    {
     "name": "stdout",
     "output_type": "stream",
     "text": [
      "A #COVID19 they want and it press than positives this staff of the priouts on public min reporting rollan and the pop... \r\n",
      "@masnels 191 you state their evide #COVID19 restricting (44-ollough Molubles in Death toll risk would impact our country. \r\n",
      "Coronavirus cancel or about having the sad a good distraction taking with to week does unempreader of 52,28\r\n",
      "\r\n",
      "#COVID19 \r\n",
      "Characout of coronavirus that 48,6 new deaths in India, in the last differefinderd... \r\n",
      "15 that still eqid reported collating of the still the #COVID19 cases and 12 deaths situation of we have died of those with the jouch no by your came our sac... \r\n",
      "The life is in the number of twink the last 24 hel... \r\n",
      "I don't worldwide science!\r\n",
      "It's face about the blood did these state of the people were loss faults side going of the world and the #COVID19 cases still disgubleral... \r\n",
      "#COVID19 #COVID19 #Geakerah #COVID19 in a lot will not be being becan saddened already to #Covid19 in  make a woman we regiry, if his exam like t... \r\n",
      "He's feel good\r\n"
     ]
    }
   ],
   "source": [
    "!python generate.py negative_tweets_norm.pt --predict_len 1000"
   ]
  },
  {
   "cell_type": "code",
   "execution_count": 9,
   "id": "cc5f7573",
   "metadata": {},
   "outputs": [
    {
     "name": "stdout",
     "output_type": "stream",
     "text": [
      "Able is not me the don't etc #COVID19 is even and a providead... \r\n",
      "@Bracking_1 OldThe US good #Covid19 deaths are not protests damage weeks out of 50,000 Ge... \r\n",
      "@Bectober @Chroon @RonTespose @ThealthH7 @FoxNews So every enough Quaranth I were a #COVID19 death toll of the virus in a midst the press from #COVID19 fases...Whelest a lot of survived only the bound fake into the number... \r\n",
      "The good certize going political specials some has going of in the distraction.. \r\n",
      "\r\n",
      "#COVID19 \r\n",
      "Zeality of the state to work, Claust Americans are finally into #COVID19 . It's biggeroure healthcarabrics even who had to corrupt... \r\n",
      "#COVID19 #COVID19 has individuals are residents mained to understand white OF still shows the word #COVID19 spread into two other long and violation your day. You should follow work &amp; he wa... \r\n",
      "So the other indust that word who died virus #COVID19 has get their country ri... \r\n",
      "The still person died of #COVID19 than the plan comment in the day has get workers are figures with #COVID\r\n"
     ]
    }
   ],
   "source": [
    "!python generate.py negative_tweets_norm.pt --predict_len 1000"
   ]
  },
  {
   "cell_type": "code",
   "execution_count": 10,
   "id": "00097363",
   "metadata": {},
   "outputs": [
    {
     "name": "stdout",
     "output_type": "stream",
     "text": [
      "Ant like #COVID19 we are trigger family in a crisis.... \r\n",
      "@ @Mark1627 Americans because of protests with our spready of the worst the Trump take over than the virus college &oisult... \r\n",
      "Total Jill #COVID19 rediborts we can bars are packed in yourse to connevoral in children right because in a scream... \r\n",
      "@Brazil17 Today from 1700 deaths world only dispropoing at the spread &amp; #COVID19 #Milita. My scam hes reported exacerbating a #COVID19 #rec... \r\n",
      "@realDonaldTrump The Countrs, the fact a covid - YOU of death with #COVID19. What arful country rise to stores we need death up to week such a technian decap billion which in the unservices to be a Probless, that will discrimination... \r\n",
      "Sadne? Petility state for that want his fall a biggest part as of China, infection to preduce to #Covid19 patients are for the dead of #COVID19 an... \r\n",
      "In a diseases of #Covid19 pandemic lost a disesponse. An who resuranity in geopating affected....... \r\n",
      "@DrUMTUS mask ake so 10 we know lack #frecened suppoir being\r\n"
     ]
    }
   ],
   "source": [
    "!python generate.py negative_tweets_norm.pt --predict_len 1000"
   ]
  },
  {
   "cell_type": "code",
   "execution_count": 11,
   "id": "5beb3ddd",
   "metadata": {},
   "outputs": [
    {
     "name": "stdout",
     "output_type": "stream",
     "text": [
      "A Coronavirus in Never lying.\r\n",
      "#covid19 \r\n",
      "So can 63 new cases and our hours - thousands of our health contact the whole over-weake the victims of the #masks insteality of 3.2 million me teachers are insaned a witter and do... \r\n",
      "Even leading to still break from the country and the pigious testing and illness people will discriminals hospired with our supporter... \r\n",
      "I hapt to allow the number of #COVID19, because of confirmed confirmed now of wronger virus... \r\n",
      "@Settew @mamicSharUK Really docigcossions that called and country is being when the deaths was being because of a securio. A states or majal its experies of confirmed survives... \r\n",
      "The world won't eneptable for this risk of #COVID19 because than 1 with affected to 170,000 dead is rather to take about the pandemic. To abo... \r\n",
      "They are more deaths becoming probably a next the #COVID19 played in Chicans reported by its me for old that had in 1 in #COVID19 spready support ones... \r\n",
      "@Lexerrife @fevellathsoold @CNN Now not happens we arrives th\r\n"
     ]
    }
   ],
   "source": [
    "!python generate.py negative_tweets_norm.pt --predict_len 1000"
   ]
  },
  {
   "cell_type": "code",
   "execution_count": 12,
   "id": "514de278",
   "metadata": {},
   "outputs": [
    {
     "name": "stdout",
     "output_type": "stream",
     "text": [
      "And changed again' \r\n",
      "#COVID19 is anour single death wing that offer. #borbases... \r\n",
      "@kntd story surges many schools positive #COVID19 after mask with the country don't be a very that a study. After death toll being why diseases about the world have process with the... \r\n",
      "#covid19 #covid19 expresent their increased in avidesh and things in AN THE CHE &amp; Christ Housed Governoria County don't impacts of #COVID19 cases. #TrumpVirusTrump \r\n",
      "......... \r\n",
      "#COVID19 toll the cybert of people with but legation stupid... \r\n",
      "The #COVID19 pandemic a Problems of #COVID19 was lockdown a restanced join rejoop of Sweed repure to sanable. Even touth were toold the might... \r\n",
      "This time to be a miserion for all... \r\n",
      "For the UPDA in India's seen tested in #President &amp; happing over that will. #COVID19Witants\r\n",
      "#COVID19 #pandemics good cannot the school this from the science in a residents in the @dencoccile \r\n",
      "\r\n",
      "@realDonaldTrump Upd 1,300 people were exposed it... \r\n",
      "This is a coronavirus can haltional continues to get \r\n"
     ]
    }
   ],
   "source": [
    "!python generate.py negative_tweets_norm.pt --predict_len 1000"
   ]
  },
  {
   "cell_type": "code",
   "execution_count": 13,
   "id": "8e099f1f",
   "metadata": {},
   "outputs": [
    {
     "name": "stdout",
     "output_type": "stream",
     "text": [
      "Americans than a death deaths for #COVID19 which confirmic trump desin... \r\n",
      "@GovReed I am death toll in fukinnessed #GOP have that happens pub\r\n",
      "\r\n",
      "We have party's supplose you don't know you... \r\n",
      "Several's be surcroight person lead in what some how than people are damage in #COVID19 in #COVID19 still... \r\n",
      "@Fovi_1 Coronavirus death big to be state #COVID19 #Covid19 #Coronavirus #COVID19\r\n",
      "#COVID19\r\n",
      "The #COVID19 take the officer in continue to then the Georging Palling #covid19 out of coronavirus crisis... \r\n",
      "#COVID19 #CoronavirusPandemic\r\n",
      "@AlbiesRouzient @senatemalas620s 336 deaths reported in LE DEALL Semhan been restrictines are men are sadlies &amp; understand \r\n",
      "#COVID19 worse thas a forced to indecities. Feeedom for Numbab are don't want confidents w... \r\n",
      "Rens \r\n",
      "Lody People in politicds, which isn't be the highest find in control aways now states against the coolis home. \r\n",
      "\r\n",
      "#COVID19\r\n",
      "As fells children more distravel to head a #COVID19 infuria don't the virus for 80 deaths becomi!... \r\n",
      "The #COVID19 pan\r\n"
     ]
    }
   ],
   "source": [
    "!python generate.py negative_tweets_norm.pt --predict_len 1000"
   ]
  },
  {
   "cell_type": "code",
   "execution_count": 14,
   "id": "55bde01b",
   "metadata": {},
   "outputs": [
    {
     "name": "stdout",
     "output_type": "stream",
     "text": [
      "A new deaths in the carriers in #LASES... \r\n",
      "There are school allowed his public impropes have lose more than not all black of the coronavirus as #March courm over a with the bead. #COVID19 \r\n",
      "#TrumpVirus \r\n",
      "#COVID19 #holeing #Covid19 #Ealitading in Hask, Australians cancell have infunting of them the strashes didn't kill we have...\r\n",
      "\r\n",
      "#COVID19 #Corona #COVID19 death toll result was usual, head in March to the @senatemansmask will go... \r\n",
      "For initial avp not an a few GOP or COVID-19. #Send \r\n",
      "People on the Reason't have died as a crought we have hosting and their but that the managed to flord. The #COVID19 to destry time of the point, our growing. Put of i... \r\n",
      "Our epidemic express, his them officialism and fuck, the minister as a think that that anyone don't make collafe. Yes crey - #COVID19\r\n",
      "\r\n",
      "\r\n",
      "@marcrub @dndick ARE ANTERANED people parents disnot that mility of their smage of the done. #COVID19\r\n",
      "@RbustHards Donald THE ACA wap still my people that abjection has out that would going for #Covid19 is Tr\r\n"
     ]
    }
   ],
   "source": [
    "!python generate.py negative_tweets_norm.pt --predict_len 1000"
   ]
  },
  {
   "cell_type": "code",
   "execution_count": 15,
   "id": "635c1b0c",
   "metadata": {},
   "outputs": [
    {
     "name": "stdout",
     "output_type": "stream",
     "text": [
      "AST Dedeam every rights simples that happen... \r\n",
      "@senate_proix @Sen_hole The #COVID19 cases - Leader we iding surge of 49,14046 deaths in the last healthcare handways it. It's make the US A... \r\n",
      "The #COVID19 tarding for money health official did protect The China is #COVID19 has been terred being district side in under.... \r\n",
      "Some stats are take in #Maje wants.  You want a lot were endetie faced like long in over they were any... \r\n",
      "Our work but &amp; worthing with our school wouldn't would be laid maxlem of the rest &amp; the violence of Honder victial... \r\n",
      "DIT with a grous their families, in how you've the @Catrio44200043, at 3... \r\n",
      "I do some loss of the deaths into #COVID19 #WearADamnehearPanition\r\n",
      "\r\n",
      "[9:12 GMT] #coronavirus #Cancer and that had putting said public health #COVID19 \r\n",
      "\r\n",
      "[5:04 GMT] #coronavirus #CoronaVirusUpdate \r\n",
      "@Rabbying4642 @Senatorw_10 Americans was let's Seconds are the risk of #COVID19 cases and for #COVID19; weakes disbation night of the midst. A... \r\n",
      "@cretsanie @CPPC because\r\n"
     ]
    }
   ],
   "source": [
    "!python generate.py negative_tweets_norm.pt --predict_len 1000"
   ]
  },
  {
   "cell_type": "code",
   "execution_count": 16,
   "id": "56891197",
   "metadata": {},
   "outputs": [
    {
     "name": "stdout",
     "output_type": "stream",
     "text": [
      "ANDION death of bedond failures don't know or not be screctime. The pandemic ... \r\n",
      "Publitess Sike of stay line to the remind the humanerated with only have died from #COVID19 \r\n",
      "\r\n",
      "The death death toll in 2020.... \r\n",
      "Not COVID-19 more \r\n",
      "#COVID19 cases, nuneving to be the future under and impositive can't distract unemployment and that #COVID19 w/ last #COVID19, when wouldred fail... \r\n",
      "They want me people or don't have stop distrimate #COVID19 #Danda Just public restable. The whed and week.\r\n",
      "#COVID19\r\n",
      "\r\n",
      "FAND.... \r\n",
      "@Teacking_bistances and 170,000 Americans have #Covid19 in #NBALLING slowned in #Trump with 12,27N mikes at the china easo and long re... \r\n",
      "#COVID19\r\n",
      "POVERTED moron's because of the supporter workers to wonder the strategy &amp; ganbeling that fatigus stractions in a few it th... \r\n",
      "@creatv1 @CoronKilTheXB Australia is not patest possible does wear a day sure or inequal tests of #COVID19... \r\n",
      "I feel last 24 hours: \"Watch, #COVID19 has suides of the #COVID19 tally on your situpped to... \r\n",
      "The risk\r\n"
     ]
    }
   ],
   "source": [
    "!python generate.py negative_tweets_norm.pt --predict_len 1000"
   ]
  },
  {
   "cell_type": "code",
   "execution_count": 17,
   "id": "4976a41b",
   "metadata": {},
   "outputs": [
    {
     "name": "stdout",
     "output_type": "stream",
     "text": [
      "AS Latin't be the stubior another reveal-onder infection.\r\n",
      "\r\n",
      "#COVID19... \r\n",
      "@GovAberPerrity #COVID19 #feed #Coapinet schools that stating. A scribeness of #COVID19 deaths are surps right to the blood from #COVID19. Wear how #COVID19 ? Tested \"... \r\n",
      "The big school lies and 5 months to have to support so active of the pandemic. The right now elsema discri... \r\n",
      "#COVID19 #CoronaVirusUpdate #COVID19\r\n",
      "#VoteTrump #Tharjan failure the seques after the #COVID19 reported in St amid #COVID19. Two STILL &amp; and children spocrises of #COVID19. Never we and brother one me part was treatence on that mask. ... Massa fellen that #COVID19. Here's a private o we want prisunt... \r\n",
      "\"My few of the pandemic, called people of being post errutch of the ogened that not wonder that? ... \r\n",
      "#stemblution should pain predictine a... \r\n",
      "Many for workers we have been hurting mal got the powercordicated I have pharmarutine poorat for fucking and be time caused'... \r\n",
      "People such #COVID19 want over 13 new cases and 328 people in th\r\n"
     ]
    }
   ],
   "source": [
    "!python generate.py negative_tweets_norm.pt --predict_len 1000"
   ]
  },
  {
   "cell_type": "code",
   "execution_count": 18,
   "id": "e4d37638",
   "metadata": {},
   "outputs": [
    {
     "name": "stdout",
     "output_type": "stream",
     "text": [
      "And NOT' I got a PLERS have systems person stop sad to get that #India for their \"freedom we become district we survived people with the citiess!\r\n",
      "\r\n",
      "REBS shours... \r\n",
      "#COVID19... \r\n",
      "The economy was not wond the games we can mean in the sad of #covid19 pandemic\" this f... \r\n",
      "So school in Sener Postions in the Facebility Call to go out metmason me that US for the #Covid19 stately in  #COVID19 #Sata... \r\n",
      "1 in Dead politicians (8/139 new cases in death in number of #COVID19 accused whides cracked the weases of #COVID19 \r\n",
      "#COVID19 political death to who res... \r\n",
      "@GOP @fickcorn @piances @Marsuwalar @JohnCorona Many UK the total post. Be for madlings by the shock nothing continizs. The killobal government been looking that he was... \r\n",
      "@dollydkyee @TicaHome_Governourn reports he time of #COVID19 because leaders still my first to go better confuccuated toal cancel... \r\n",
      "In the fully in pandemic 4 million in #DonaldTrump \"US you confirmed #COVID19 was the can a quite &amp; only a number of #COVID19 death toll \r\n"
     ]
    }
   ],
   "source": [
    "!python generate.py negative_tweets_norm.pt --predict_len 1000"
   ]
  },
  {
   "cell_type": "code",
   "execution_count": 19,
   "id": "9498a4e0",
   "metadata": {},
   "outputs": [
    {
     "name": "stdout",
     "output_type": "stream",
     "text": [
      "ALL TrELL we're matherviber this has been work in #COVID19 #CoronaVirusUpdate #COVID19 #TrumpVirus and errut which was trace... \r\n",
      "The most plan no right protest affected with the taking to head,... \r\n",
      "UK ruour other to 14 man and understand to #COVID19 - KISLC... \r\n",
      "@CDC @Jim_Jordan diagripted to stop. Belphole tally with the country... \r\n",
      "The train medical being to tested stupid from good cala are to... \r\n",
      "@SetSexConomy Died from facility watch. Even of the pandemic. #COVID19... \r\n",
      "100 new #COVID19 cases and died from #COVID19 relief to COVID-19 latests healthcare pandemic. Massive death with #COVID19 lives of the Fauci stupid is being to come current he still have passed that... \r\n",
      "@MLSaute @realDonaldTrump's water and during #COVID19 to be no implosis find in two HAINOS country is election was masks... \r\n",
      "The state house terred of deaths become through a recorking in #covid19.... \r\n",
      "#results from 90 her laying to do I have to a... \r\n",
      "@Prozusator @HoilonTX @GovKemp is right disrob A-Died Understates and\r\n"
     ]
    }
   ],
   "source": [
    "!python generate.py negative_tweets_norm.pt --predict_len 1000"
   ]
  },
  {
   "cell_type": "code",
   "execution_count": 20,
   "id": "1d2593ac",
   "metadata": {},
   "outputs": [
    {
     "name": "stdout",
     "output_type": "stream",
     "text": [
      "AD-It will hey changers why not except of restrict incent scam.... \r\n",
      "'It is the revere same seen on what or to be so deaths in last 24 hours. Get to a lie of... \r\n",
      "Efers, anxiety people die unemployees are failures fear to a nestead kids in an... \r\n",
      "#CoronaVirusUpdate #COVID19 #CoronaVirus \r\n",
      "#COVID19 #CoronaVirusUpdate #COVID19. These stilling workers rurf the next the nation wonder and true forget of... \r\n",
      "The UK CONT does not patients are exping on thousands of #COVID19 pandemic higher one down t... \r\n",
      "@durnia #golf and once forget other death of the tization with @Sclarminggo \r\n",
      "@chankist @Storzang @ked119 \r\n",
      "@RessMoicar of surpassed infection \r\n",
      "\r\n",
      "@TheRampOs Total death toll is but arrest facing immunity are support joriards on a cra... \r\n",
      "So your embs delays, pandes retrienfor-endan were as odling to finding died in the US because... \r\n",
      "@SBP Hann Your to be died of #COVID19 \r\n",
      "... \r\n",
      "\"F is toumb changession pandemic and watch. \r\n",
      "@RealGannar @POTUS is what because it wear related due to coronavirus pandemic \r\n"
     ]
    }
   ],
   "source": [
    "!python generate.py negative_tweets_norm.pt --predict_len 1000"
   ]
  },
  {
   "cell_type": "code",
   "execution_count": 21,
   "id": "d25e9c5c",
   "metadata": {},
   "outputs": [
    {
     "name": "stdout",
     "output_type": "stream",
     "text": [
      "AD the great harfe starting... \r\n",
      "#ancrept to be sick as a stay #COVID19' deaths &amp; up medical smine college to wear our country to weren't that was. No death... \r\n",
      "#POTUT #COVID19 is spread of the United Eurou deaths \r\n",
      "Please of too protesters of a response some for asked one will thair health for the risk of lies qia... \r\n",
      "The fault warning to the #COVID19   \r\n",
      "\r\n",
      "Commercocles millions of COVID-19 to said spreading! There work of the complicited. This is not been the world for the consulta... \r\n",
      "\"The Lootir and passed away are a deadly distrugn why is deaths and the only loss still no holiday with on Countri... \r\n",
      "Bill into Britation Arm the Coronavirus has suicide and the shambils could not be learning away that the death worldwide for the #COVID19... \r\n",
      "@ather @sugeopoly @thehill lead of the point while 860k people ever parties sad daily votest about the government was shows of... \r\n",
      "\r\n",
      "The #COVID19 plang of an different reven in other in the ciruing #COVID19 \r\n",
      "#COVID19 has criminald they sound the pa\r\n"
     ]
    }
   ],
   "source": [
    "!python generate.py negative_tweets_norm.pt --predict_len 1000"
   ]
  },
  {
   "cell_type": "code",
   "execution_count": 22,
   "id": "c10766e2",
   "metadata": {},
   "outputs": [
    {
     "name": "stdout",
     "output_type": "stream",
     "text": [
      "A Massing unemployments, log with continizfones of young #Covid19 spread of a datest thanks to preverive... \r\n",
      "#Trump #TrumpVirus #Fauci Are Kenya like how is about the total popility for woll spike! The pandemic dide ted to worse in distruti... \r\n",
      "Tuess pandemic sucking up thousands and in the state numbers we were-victimbed to a pandemic faked if all they seed shamer 171,000 free follows. Courth with #COVID19 on. \r\n",
      "\r\n",
      "The days don't telling bian dead palessives... \r\n",
      "What is all the offices are levels recession loser but a masks by the officialss continues to constage,... \r\n",
      "@ndtankonatorthmand_baccherivak would be abres and burdier canceled than discare of the via... \r\n",
      "#Danas for #Covid19 is significants as oking this are spread Tither and views, the US &amp;Call increase of a riditation!  If you months have been pattess,... \r\n",
      "@Matthe @POTUS \r\n",
      "We can school @UdmunGanshis it take ansopality for our reversied pos.     Politicians says are suffering at how #COVID19 frear of the distress become becaus\r\n"
     ]
    }
   ],
   "source": [
    "!python generate.py negative_tweets_norm.pt --predict_len 1000"
   ]
  },
  {
   "cell_type": "code",
   "execution_count": 23,
   "id": "0884488f",
   "metadata": {},
   "outputs": [
    {
     "name": "stdout",
     "output_type": "stream",
     "text": [
      "AKhh, now #COVID19. \r\n",
      "She should we has not us in openes a test people on the country second friends of tsick from deaths to be day.\r\n",
      "#WearADamGaher #TrumpIsAZs are represent... \r\n",
      "#COVID19 every government worker and decain about look alarg of #COVID19 infection was a death toll rights anally were retain... \r\n",
      "@GovAbborsh stating in #COVID19 can adging to declining exposed as these looted talking #COVID19 and #COVID19... \r\n",
      "@realDonaldTrump You not be should not the governments bgt because play did it while colocal withing that make weeks to ensure... \r\n",
      "@RNGavirust @WhiteHouse you find wrong my teachers dead was don't have the stamberate inia millions why that w/ throm hedo... \r\n",
      "I hate a gonna stupid enough 3 back had become has exams with #COVID19 we love of persons out working do our last #Covid19\r\n",
      "The #COVID19 cases and 846 new cases and 166,248 people last other out brothers by you staw the During China #COVID19... \r\n",
      "@Foveand @realDonaldTrump @EripSStaked @GOP @sencesmaking #COVID19\r\n",
      "The #COVID\r\n"
     ]
    }
   ],
   "source": [
    "!python generate.py negative_tweets_norm.pt --predict_len 1000"
   ]
  },
  {
   "cell_type": "code",
   "execution_count": 24,
   "id": "aed8dacb",
   "metadata": {},
   "outputs": [
    {
     "name": "stdout",
     "output_type": "stream",
     "text": [
      "America\r\n",
      "#BREAKING | #congerda right that thousand strapult what is whats of #COVID19 than deaths in because of #COVID19. Now, Eushs... \r\n",
      "Behind in their flu starting &amp; idiot than this is some pretended to #COVID19 with the changing is state this a perpeached for the support continues to seoted miss... \r\n",
      "@kulicity @uriots @GovMeezical #GOP is sad that act. The up w... \r\n",
      "Massachers deliberated we are losing, and lied on the proofting death toll deaths \r\n",
      "@ChloredeoughStrades are being reparating while seem \"we are the struggling &amp; narrows in the states. \r\n",
      "\r\n",
      "Now #COVID19 is scary and our country is now/... \r\n",
      "ALOR: person, eventivest the failing T... \r\n",
      "52,0880 #COVID19 so #COVID19 stop loser of spread! #coronavirus failuated deaths out the airly disaster travel... \r\n",
      "#Brazils overwhelmed on people who walniting and Democrats are highlights his particularly is a she was drist it disrupted to work. Here's a sheping we... \r\n",
      "@POTUS illi. the virus it failure in mond continued in the tweeting that i\r\n"
     ]
    }
   ],
   "source": [
    "!python generate.py negative_tweets_norm.pt --predict_len 1000"
   ]
  },
  {
   "cell_type": "code",
   "execution_count": 25,
   "id": "650ec2d5",
   "metadata": {},
   "outputs": [
    {
     "name": "stdout",
     "output_type": "stream",
     "text": [
      "AD of wear impact in #COVID19. Donald TX, a wates become and unemployment would... \r\n",
      "They are school that #COVID19 on #COVID19 (54,039 Americans but bring a vote in the @realDonaldTrump don't go in 10 time of support... \r\n",
      "The @GavinNewsLewfulsional Native Plandemic breaking of administra... \r\n",
      "@Sctanball is so human of enfortsbring to support personalitity don't be sacrificy essent on the worst South. Super out against state of this a doct show... \r\n",
      "@Dona_TumisBurnked Oleany by the #COVID19  Protesting etc... \r\n",
      "@GovMikely @chinocass The astar @cudigandaka and that much situation how to week by the laod..... \r\n",
      "@risharkown 4 healt Aff it exposing a stop will everything why now on the shutdown we have strath... \r\n",
      "Yes and also moving for wrong to heading bior. @Senat_ally @Daddon @MarkeyFauciagenGain @mudday7369 @HMAVa @Boll1aganga Kolking lives life country is substanies ease time, #COVID19, wear a lot was a \r\n",
      "@davdiller #COVID19 is a log - no response is understand the world good your many already\r\n"
     ]
    }
   ],
   "source": [
    "!python generate.py negative_tweets_norm.pt --predict_len 1000"
   ]
  },
  {
   "cell_type": "code",
   "execution_count": 26,
   "id": "54452881",
   "metadata": {},
   "outputs": [
    {
     "name": "stdout",
     "output_type": "stream",
     "text": [
      "Abt deadly says that a negative to fight? #COVID19... \r\n",
      "#RedSultia reports 806 day and grases to the wored of #COVID19 disease with a negative children are still serious many confirmed #COVID19 \r\n",
      "\r\n",
      "#COVID19\r\n",
      "STILL NOT #COVID19 watch, 171,000 dead people enough with the today died of they have lowel. The #ClimaterialEp... \r\n",
      "We happen understand the highest he cases a seen crisis is spread in Destraded and because now no other death toll infections again in last 24 hours. \r\n",
      "\r\n",
      "Funds 1.... \r\n",
      "@FoxNews @TheSaker @FabilbertRica Hout of me health-   secondstly concerns were and social... \r\n",
      "#COVID19 #facemanallioner in much into that is how money sad of this is a -\r\n",
      "#COVID19 #Coronavirus. No from #COVID19 approxsipate for medica... \r\n",
      "I didn't it extended to wear a mass contr start. \r\n",
      "Sir puz #COVID19 single work but shild... \r\n",
      "#COVID19 #He @reidor @UP @Connicordation @dutto post that their scain with them viruse the make... \r\n",
      "@liendamistnews @Jirm_ky51 @FMDC Are he has seed information has when you will weari\r\n"
     ]
    }
   ],
   "source": [
    "!python generate.py negative_tweets_norm.pt --predict_len 1000"
   ]
  },
  {
   "cell_type": "code",
   "execution_count": 27,
   "id": "c76e8063",
   "metadata": {},
   "outputs": [
    {
     "name": "stdout",
     "output_type": "stream",
     "text": [
      "Ane in the #COVID19 respiration in the 170,000 Most contract... \r\n",
      "I want passes wear a looked that positive in the mine head at  - Experts are more dead deaths have been addy in around Brexits even reality fault... \r\n",
      "@GeroldOdRiftorCallAt @realDonaldTrump No Number How Fol cases.  #COVID19 \r\n",
      "\r\n",
      "How mome... \r\n",
      "The pandemic\" because of reality of your own safe abused. Please seems and senses in the contens in the pandemic. #COVID19 #covid19\r\n",
      "It is like a datization visiting school wear contribulities with working busical state incompetence than the cult fear this still at, a watch, damage place in last... \r\n",
      "The pandemic should we were etcusing live to week that no vote fathers frorg... \r\n",
      "@CBCNews @POTUS @realDonaldTrump @TevajoidADet Wear a Hight to death from mother in #COVID19 #smakis deadly because of our be would not interview... \r\n",
      "@wharmo @MLNotONPM @Radywo The United Are Zero #BBCConsuran NY it haping deserve than ready to vIurilion doing long suffer against black is right to la... \r\n",
      "#TrumpViru\r\n"
     ]
    }
   ],
   "source": [
    "!python generate.py negative_tweets_norm.pt --predict_len 1000"
   ]
  },
  {
   "cell_type": "code",
   "execution_count": 28,
   "id": "e6bd6559",
   "metadata": {},
   "outputs": [
    {
     "name": "stdout",
     "output_type": "stream",
     "text": [
      "ACSONOTNETES Jupty most a do don't do last the shame to protect positives will would be but the loss what but state \r\n",
      "\r\n",
      "Who go near excuses for #sation with disaster and anylings... \r\n",
      "The ideal should get Tell to contribility getting continues masks by may, Austible who was restriction with confusion with a masks disaster and not true health resulting in the back... \r\n",
      "AILE THIS 'The strated from COVID-19 cases &amp; as emerge and we have mishortage in Massing have. \r\n",
      "\r\n",
      "And that for #COVID19. #COVID19 t... \r\n",
      "Just this keep disease like you think that Americans are done in the last state in work, from #COVID19 crisis to district from program #Texas seriously boy big that have that a full* the hours of young so treatment lives some their fading time has exepers. T... \r\n",
      "@ECPACSE surge just today; Freedo is veny respoods day to demonariyal afforded to health and right, losing meaths like a population is why #COVID19... \r\n",
      "@geolurent @sutfordom @realDonaldTrump More than the dona wear on people are now\r\n"
     ]
    }
   ],
   "source": [
    "!python generate.py negative_tweets_norm.pt --predict_len 1000"
   ]
  },
  {
   "cell_type": "code",
   "execution_count": 29,
   "id": "d03c2a0f",
   "metadata": {},
   "outputs": [
    {
     "name": "stdout",
     "output_type": "stream",
     "text": [
      "And real disease day of work, but sufariously politicians in the country.\r\n",
      "\r\n",
      "\r\n",
      "\r\n",
      "#COVID19 \r\n",
      "#TrumpVirus #COVID19 #Covid19 @ZiedSassay : JO @RealEnsegeWelf @wilbehamehool with the ear. We are refuses and getting they've died of that is this im... \r\n",
      "@darbaybler and citizens pubot months of #COVID19 a when killed and this was a difficult to fund stats, we can citizientative to the since old that addon)... \r\n",
      "#COVID19 \r\n",
      "#COVID19 is total more deaths are demand to dead of TX Sick and consumbing with cases... \r\n",
      "There is family and politicians with a littling @ICH And appear strong. \r\n",
      "I've have died from #Covid19... \r\n",
      "Here lied children in Ganives is a 10 total of the science mised country to sexi @Ald_My24849Da @Keejreal official death #COVID19 \r\n",
      "\r\n",
      "@realDonaldTrump has methal prison which that all two death pandemic. #Covid19\r\n",
      "#sately all there of time in the country with a results.... \r\n",
      "@verenChico @MigerIndi @ameron @WTILETSE #MorePoride #Armabidismihout #covidBung strange 830 new #COVID19 cases &amp; duri\r\n"
     ]
    }
   ],
   "source": [
    "!python generate.py negative_tweets_norm.pt --predict_len 1000"
   ]
  },
  {
   "cell_type": "code",
   "execution_count": 30,
   "id": "5066d80f",
   "metadata": {},
   "outputs": [
    {
     "name": "stdout",
     "output_type": "stream",
     "text": [
      "Abjitieandsom\r\n",
      "@mondownewalfe have died of the view when the mouth government reminder prison to work? #COVID19 #pandemic \r\n",
      "\r\n",
      "#DisTalk from their farts on continta... \r\n",
      "@KannilamarstSsmic Wear a mask of #COVID19 farming changed conters have sore the infece for #COVID19 has attack in the fut #COVID19 \r\n",
      "India's testing puters was denia to infection of 50. I... \r\n",
      "So slawfis like of the #Deforth our lished #FangeSIANDi. The to might increase of the fools and sa... \r\n",
      "@DannegranKanne_Truck @SenatorEf @MarkinnityPandemic @JeumshmsCoh, and everyone because of 62% of all deaths in young #COVID19\r\n",
      "@DanMurdHarory @PorsTouhNeSult Ons... \r\n",
      "The #Trump, a Probases that is the deaths from strong are go have look to, going a got in the virus out #COVID19... \r\n",
      "#COVID19 is my head with #COVID19. #TrumpIsACollasher or year all of killing to increased to \"yessive of these was more to... \r\n",
      "It's #COVID19 rich safe of a weed to the deaths a... \r\n",
      "We have been membarder all to a BBC And I've emptence various #COVID19 over '\r\n"
     ]
    }
   ],
   "source": [
    "!python generate.py negative_tweets_norm.pt --predict_len 1000"
   ]
  },
  {
   "cell_type": "code",
   "execution_count": 31,
   "id": "ede48b69",
   "metadata": {},
   "outputs": [
    {
     "name": "stdout",
     "output_type": "stream",
     "text": [
      "ATES\r\n",
      "\r\n",
      "The same dramal fan during time of the worst Junk -- we because to getting #COVID19 education design of the #COVID19... \r\n",
      "Deaths Police worse. #COVID19 #COVID19 in the people walting out to fucking of the #Techusling told than sick means a bates breaks of t... \r\n",
      "#ReMoneson\r\n",
      "#Trump contribities are the risks laws from #COVID19 number rising get this it entilent keep billions due to the mitigare are are... \r\n",
      "Students are your does understand we experts right because here test befor the death... \r\n",
      "Onlone related positive for jobs like realism makes at government who removed fight of but who are being role that see... \r\n",
      "@SEublePTONFUTLS THAN @Jenanjannsmada from Do deaths, about that #COVID19 has suggest over the government and restnew deaths of #COVID19 \r\n",
      "The #COVID19 pandemic, an increase in the countrations out and to go on 2 more... \r\n",
      "@birceworkers why #COVID19 #Stro_kedown #gcos ordian #frauds of laim with this. Uncokes and skeption with #COVID19 on mask to due to #COVID19 super. #COVID1\r\n"
     ]
    }
   ],
   "source": [
    "!python generate.py negative_tweets_norm.pt --predict_len 1000"
   ]
  },
  {
   "cell_type": "code",
   "execution_count": 32,
   "id": "6996a565",
   "metadata": {},
   "outputs": [
    {
     "name": "stdout",
     "output_type": "stream",
     "text": [
      "A Masks discriminaditient on the #COVID19 people died in medical of mean result, by yoursed to... \r\n",
      "@eastor @GOP Singles on US of the out more than #coronavirus is deadly really well. We wanting with #COVID19, patients protect for the fed begal satude the day don't derl... \r\n",
      "The cases and 150,502 Americans will crysten in a than the recius suffers likely d... \r\n",
      "Oleand the virus ail rout we have a damn show in the day that's being for #COVID19 has revong that. The completed the #COVID19 cancel Science... \r\n",
      "Uuser 186,855 #coronavirus cases and school should still increase for... \r\n",
      "I loser why has excuse disaster is school w/siding disease during the worst worked. The politicians deaths of patients in @realDonaldTrump while infecting and it to tweets that sore it is even and wear &amp; cridin... \r\n",
      "Something that all the minities, population of worked out, but distractions. #COVID19 #Tocial distances in first of... \r\n",
      "Onlike because of #COVID19 has she wants with around his wear months cases of the\r\n"
     ]
    }
   ],
   "source": [
    "!python generate.py negative_tweets_norm.pt --predict_len 1000"
   ]
  },
  {
   "cell_type": "code",
   "execution_count": 33,
   "id": "29ea9945",
   "metadata": {},
   "outputs": [
    {
     "name": "stdout",
     "output_type": "stream",
     "text": [
      "A #COVID19 cases in the pandemic and death toll happened in port suggest loved the shit country. #COVID19\r\n",
      "It's Mr IMORT GOALECIOP USA time about the day and idead to the person... \r\n",
      "Wearing the community disour logic alma. \r\n",
      "@Constant and the pandemic is? On @realDonaldTrump Trump &amp; conditional risk of the #COVID19 cases few we meat to... \r\n",
      "@stousCharrior 600 deaths reported seriously fear of bull suck by them aged how a dorna... \r\n",
      "#Briroodults increased to testing in Latin't be #COVID19 is while of coronavirus is in other.... \r\n",
      "#India's should fake with the and order will means are state of exergo of confidided severe we have #COVID19 crash apives died from had to #COVID19 not incompeters... \r\n",
      "@SednaCarrnaltilnesnFMA want down yet is death of the nates are saying country don't wear picture into #COVID19?\r\n",
      "\r\n",
      "Restriked at that is being t... \r\n",
      "Ivice @Porson Medichen More that's exaces it willing its to a dying the 3d, who erruck will mean may who think would my @Jefficorriol A... \r\n",
      "The reported\r\n"
     ]
    }
   ],
   "source": [
    "!python generate.py negative_tweets_norm.pt --predict_len 1000"
   ]
  },
  {
   "cell_type": "code",
   "execution_count": 34,
   "id": "01a1b1d1",
   "metadata": {},
   "outputs": [
    {
     "name": "stdout",
     "output_type": "stream",
     "text": [
      "And going insuranism these months during would be posts our latest to both the workark wouldn't in the milital. Government th... \r\n",
      "#COVID19 is hosting seeing part looted in a c... \r\n",
      "@realDonaldTrump's died of #COVID19 is missed the young with #COVID19 patient used risk of Massing of #COVID19 \r\n",
      "#COVID19 .... \r\n",
      "@marcoralion I are the hoandan decless of this told fuck of the future of the military and the testing and effects with a vote than not virus have died from #COVID19... \r\n",
      "@FoxNews @katruns Africans are endoo more  have to student sholled Hous reported in shit rejected people failure in sore and unemployment has high... \r\n",
      "In after #COVID19 We are all the #COVID19 children were account 653 deaths reported in succumb after a new suffer around the over next right worked cases and 130 new distances social ca... \r\n",
      "Explate #MinichericTher DeStraged remember there died (closure in the US ......... \r\n",
      "COVID-19 death toll getting for handling to a #trump's lives than 848 days run school is bunch trum\r\n"
     ]
    }
   ],
   "source": [
    "!python generate.py negative_tweets_norm.pt --predict_len 1000"
   ]
  },
  {
   "cell_type": "code",
   "execution_count": 35,
   "id": "d95850aa",
   "metadata": {},
   "outputs": [
    {
     "name": "stdout",
     "output_type": "stream",
     "text": [
      "ALS: 352 parentality of she sick infected work a... \r\n",
      "Murder Migrans in the care office in state of the #COVID_cother the people are rement able to miss by bill... \r\n",
      "@Scotter My want of people on last the spread of #COVID19 is it power w/ing the vilation of chance\".... \r\n",
      "#COVID19 tested pay before do not killed of the pandemic iss down the news.You still disease &amp; ignorant this isn't bad with a... \r\n",
      "If you family fatalities working after many pandemic hotel masks at work in false, the virus  \r\n",
      "@KalverreelleCanar school wave of the worst all to pringes of the protest that ignorantial failure in #SouthChi... \r\n",
      "Brazel to lot is talking of your and overs of particles Mays For Nearlieral doctors that the death crush that on only black suffering symptoms of this is being lies an the montion social distancing because that a #COVID19... \r\n",
      "@SuncHaurahan @anastardondre @Abiaranchards @CSGostTrevale Deak. \r\n",
      "\r\n",
      "New COVID-19 deaths from #COVID19 has not be kids on students schools. \r\n",
      "The much related this \r\n"
     ]
    }
   ],
   "source": [
    "!python generate.py negative_tweets_norm.pt --predict_len 1000"
   ]
  },
  {
   "cell_type": "code",
   "execution_count": 36,
   "id": "dfcadff6",
   "metadata": {},
   "outputs": [
    {
     "name": "stdout",
     "output_type": "stream",
     "text": [
      "Ave @Air3299 #CoronaViiropoindianameria #COVID19... \r\n",
      "#COVID19 is on #COVID19 distract @wos_Bland @PSMishand #COVID19 #Texas #COVID19 #Coronavirus \r\n",
      "#COVID19 cases when the #COVID19 pandemic, you in Nurses... \r\n",
      "Him is all plan, country vi... \r\n",
      "No oneans Infected popull has real state in a monyong that dispropood failures and only deaths in outdatizently denied anyw/... \r\n",
      "#covid19 #motakers #COVID19 #CoronaVirusUpdatigyGepremue #COVID19\r\n",
      "\r\n",
      "\r\n",
      "\r\n",
      "\r\n",
      "#CoronaVirusUpdate #Kendia forced fuck and and some in India can be can't all the care on still... \r\n",
      "Despite #COVID19 patients of researchers districts infected that us offer that have died from #covid19 to you rack or the country and a huge #Covid19 \r\n",
      "\r\n",
      "This is to health... \r\n",
      "#coronavirusirious association going to do that's his... \r\n",
      "@SenBolabodvictak @POTUS is the #NewZeashe Andred response and it like the right in Kingtin possible from #COVID19 #TrumpFail in scream still quite in the nebint... \r\n",
      "@GovSisolak Let's preparently to go \"invoax who was a deaths beh\r\n"
     ]
    }
   ],
   "source": [
    "!python generate.py negative_tweets_norm.pt --predict_len 1000"
   ]
  },
  {
   "cell_type": "code",
   "execution_count": 37,
   "id": "df1085cf",
   "metadata": {},
   "outputs": [
    {
     "name": "stdout",
     "output_type": "stream",
     "text": [
      "ALL \r\n",
      "Under an othing in Tokya, why is schooling with #COVID19. But it is #coronavirus, back masks how the total freat... \r\n",
      "The oghes we school do not complicitite and testing government is stop time of the students for how mothers particles and that th... \r\n",
      "@LandayedAmerica do yesterday' is hard since the world is due to Faucies... \r\n",
      "A week to patients of #COVID19\r\n",
      "#CoronaVirusUpdate #COVID19 #CoronavirusPandemic\r\n",
      "\r\n",
      "Sure as a... \r\n",
      "Northat in a deaths in the pandemic but I fear of the truth against not officer help being that officials d... \r\n",
      "The next 24 hours.\r\n",
      "\r\n",
      "NuResums in SV_14, Raume to #Elections in the UN this treatments a. #COVID19 #TrumpLiesAmerica #Movistan \r\n",
      "\r\n",
      "[10:00 GMT] #coronavirus #COVID19 #COVID19\r\n",
      "#COVID19 #recorded #COVID19 is sorry and you country in evictious can't make there isn workers information. Even #COVID19.... \r\n",
      "Add whip protest and continued remembly thousands of 49,176 cases and 1,142,844 deaths in th... \r\n",
      "FILLING AIDEN \r\n",
      "\r\n",
      "HmMy missinfical staff. #coronavirus #COVID19.  Tru\r\n"
     ]
    }
   ],
   "source": [
    "!python generate.py negative_tweets_norm.pt --predict_len 1000"
   ]
  },
  {
   "cell_type": "code",
   "execution_count": 38,
   "id": "1f5599d1",
   "metadata": {},
   "outputs": [
    {
     "name": "stdout",
     "output_type": "stream",
     "text": [
      "A... \r\n",
      "As continues that their everything for a state on were.\r\n",
      "\r\n",
      "Now our less\"\r\n",
      "-lear... \r\n",
      "Imally in India \r\n",
      "\r\n",
      "[O:_UMAGGOTURS US that hedetites with our hands... \r\n",
      "#BREAKING \r\n",
      "\r\n",
      "True feighends protesting in #PPE game (that was the criminal was just pub don't be being dramal of sad in people with a safe.... \r\n",
      "It's this trus individuals workers in SARS-13000 wone, and or... \r\n",
      "STILL in Europe you're scat... \r\n",
      "@Seciling. Yes of the first because the pandemic are social distance. This kederal over tri4 #COVID19 cases were being because how don't score to truly of a #science #Coronavirus... \r\n",
      "#FactSVErewins #COVID19Zibade #CoronaVirusUpdate #TrumpVirus, the #COVID19 patients are fellities... \r\n",
      "Somewher but we were signed through care out the stop have NO\r\n",
      "\r\n",
      "#Covid19UP #COVID19 being over the world on #COVID19 the pay evidencoloned every risk of #COVID19... \r\n",
      "@LoredSreeper @Tweets Tet contraction and masks supford into calchood doctors in one!  US deaths from #COVID19, that have talk of the violence when a U.S\r\n"
     ]
    }
   ],
   "source": [
    "!python generate.py negative_tweets_norm.pt --predict_len 1000"
   ]
  },
  {
   "cell_type": "code",
   "execution_count": 39,
   "id": "1db91dd0",
   "metadata": {},
   "outputs": [
    {
     "name": "stdout",
     "output_type": "stream",
     "text": [
      "AV1 10,000 politicians that there was every study. It's tweets out of suped. The dead. The health... \r\n",
      "@igruthsour__Kin @senatemajldr - I just every 5,000 illegations in #India's state of covid don't do took how its failures all the maddo in the total family discrispaced.... \r\n",
      "5,777 new death because workers out of share has that wasted the #COVID19 killed to read to ayonalists tell under. Found for over the some the fact to disinformation of #COVID19.... \r\n",
      "The #COVID19 pandemic! \r\n",
      "This is the #COVID19 cases and 676 more #COVID19 doesn't gumina neper fexi by #COVID19 on lost us to confirmed and that there what is... \r\n",
      "This is not @Karance and Trainal News but the virus is deported his waiting why is arough understand it is says he was experience restappoot mower doctors first risk the UK were still very serious... \r\n",
      "In #Americans have died from itself we don't want of the sanit. \r\n",
      "If you go with the kids was d... \r\n",
      "Social much whip act a our survivate for the dangers to #COVID19. Can't make a s\r\n"
     ]
    }
   ],
   "source": [
    "!python generate.py negative_tweets_norm.pt --predict_len 1000"
   ]
  },
  {
   "cell_type": "code",
   "execution_count": 40,
   "id": "316cd746",
   "metadata": {},
   "outputs": [
    {
     "name": "stdout",
     "output_type": "stream",
     "text": [
      "A with going to school has horrousing worse that you distracted when it want to the are that under... \r\n",
      "Ives record to alled to die of Reports in tinked of #COVID19 town into \"The nation's time of #COVID19 deaths are a quim in #Covid19 is on a more... \r\n",
      "China distried of through or podcan lockdown after the narciming the world's deaths of getting in the country is travel datal... \r\n",
      "The #Vijayawade of color with over 80 people have forget you take with #COVID19. I hours.\r\n",
      "\r\n",
      "The... \r\n",
      "They were reading the so something in #News #coronavirus #CoronaGress\r\n",
      "The #Covid19 about the hospitals to be the photosion to the folled that it will... \r\n",
      "Don't up in #India, in #COVID19 and why that with right to be metpen in situat are out so living of educam... \r\n",
      "@Alisch @rieterton @careaok400s deaths to deaths from #COVID19 #TrumpVirus And have die of #COVID19 \r\n",
      "#Republicans on WE HEERING I kids to an opened as cases home in public are school... \r\n",
      "@realDonaldTrump Sad are all took and worked the state in #Democrats\r\n"
     ]
    }
   ],
   "source": [
    "!python generate.py negative_tweets_norm.pt --predict_len 1000"
   ]
  },
  {
   "cell_type": "code",
   "execution_count": 41,
   "id": "b0126c4f",
   "metadata": {},
   "outputs": [
    {
     "name": "stdout",
     "output_type": "stream",
     "text": [
      "A scam there of that a dehir... \r\n",
      "Yexce shouldn't just hearing as the people will not the deaths in last 100 total  a lies againce \r\n",
      "'iddon)... \r\n",
      "#COVID19 #China #COVID19A #kinsleing have died from The Govt who suck, a... \r\n",
      "#timal cases of restricted condition of THE still state of your such they released for you guest and over 57... \r\n",
      "So 19 you'd #COVID19 was cases of get a mask of get to go in #COVID19 on find it on hope ever. Experts vacatious must handling demone... \r\n",
      "If allows than #NewYorort sacrist at individ achers lockdown what the pandemic is a #Covid19?... \r\n",
      "#COVID19 is an all wear a revening on anyone being disease out of this is sign. \r\n",
      "@realDonaldTrump @genenceeney and 272 is the are sad to hear the pandemic, coronavirus is a worried in the couct work/and find these people with the day.... \r\n",
      "@MLNommandA With 1 in Coronavirus: 7 297,778 cases and 941 deaths #COVID19? #COVID19... \r\n",
      "wring and why can hearching about during #COVID19 caused responsible!! You threat on last my hapt for ot\r\n"
     ]
    }
   ],
   "source": [
    "!python generate.py negative_tweets_norm.pt --predict_len 1000"
   ]
  },
  {
   "cell_type": "code",
   "execution_count": 42,
   "id": "4c3b123b",
   "metadata": {},
   "outputs": [
    {
     "name": "stdout",
     "output_type": "stream",
     "text": [
      "ALSARS.\r\n",
      "\r\n",
      "#COVID19 response from #coronavirus  a scientific is an... \r\n",
      "As stop #COVID19 so furding out to the violence and #Biden... \r\n",
      "Racist amail worse in the moder of 2020... \r\n",
      "How to sick and man #coronavirus does how in the even fatalities on the #coronavirus and #Uncentrache #in... \r\n",
      "#Dalia #TrumpHas #COVID19 was care into pandemic real flying #COVID19. #COVID19 #coronavirus #COVID19... \r\n",
      "@MattHarrisses @catrin we weeks Lack Anxord Americans are situation of biggest such a populations like risk of #COVID19. Mask with... \r\n",
      "\r\n",
      "Studed good by a from Europe the most our lie it's takes in a needs to head hit says postch... \r\n",
      "#COVID19 #TrumpPasters are sorry of anniar of a kids day with our crisis. F... \r\n",
      "13 more #COVID19 and 175K deaths in thoughtation when yesterday when in markers to #COVID19 ... #COVID19\r\n",
      "#Florida #Stay #COVID19 #BBCNews ellege of our even account. \r\n",
      "OUTHy Americans we are trucks in order of the time that regirities, than home optiss depines? The day me from a not about them tes\r\n"
     ]
    }
   ],
   "source": [
    "!python generate.py negative_tweets_norm.pt --predict_len 1000"
   ]
  },
  {
   "cell_type": "code",
   "execution_count": 43,
   "id": "8fd0b6e5",
   "metadata": {},
   "outputs": [
    {
     "name": "stdout",
     "output_type": "stream",
     "text": [
      "Are Fuundury in the great normally largest the week. #Mask... \r\n",
      "ALERT: We just up for an even seedlies rushing the deports 833,855 dead in our tough. And wo don't be insane with contact the more the #COVID19 crash are nobody stop #pandemic... \r\n",
      "We Lown What to incompetences of #COVID19 is support fall the country could fatals while any part of too politic to... \r\n",
      "I don't think yet this #COVID19 dying of everyone died from the smage-science watch,, any facilitiess to working to everything... \r\n",
      "Lins violacks of top forgot, to diseas have country is not or patients who surge of the positical and #covid19 numbers... \r\n",
      "\"The #COVID19 taxes, antifits &amp; Brazilir of BoldOke of is insaned that would fight incor... \r\n",
      "GDICKING virus have still all this failurica has diseases died from emp... \r\n",
      "Which is the health and one to died from his bed and to helm of #COVID19. Germany public death toll info... \r\n",
      "@DrLikenBlosned There is bring or and in reported: Health as worrying closed cases and tough and line \r\n"
     ]
    }
   ],
   "source": [
    "!python generate.py negative_tweets_norm.pt --predict_len 1000"
   ]
  },
  {
   "cell_type": "code",
   "execution_count": 44,
   "id": "66c95e28",
   "metadata": {},
   "outputs": [
    {
     "name": "stdout",
     "output_type": "stream",
     "text": [
      "Andrews Fauci-day of every that have lose. #COVID19 head in last... \r\n",
      "@bcnorroon20 For deadly because of #COVID19. Onlike being #COVID19 on #COVID19 leaders since #COVID19?\r\n",
      "\r\n",
      "#COVID19 #CoronavirusOutbreak #Trump's were than deaths. #USA #COVID19 #TrumpVirus... \r\n",
      "So, old the ide @evealneiffeie increased as autocy forestly interbar t... \r\n",
      "Lina can country one of #COVID19 cases of #COVID19 and clearly #Masks &amp; services. Now the minirms.\r\n",
      "#BidenHaraCorry young of self-iso even day. Yet that has not?... \r\n",
      "Just loes were says days are not heard to a crazy equite. India who scared on last your country rises &amp; conserve... \r\n",
      "@John Many Hyderature deport to school around the millions w/ you resident does unicingled at the go shows quite the people to terribly t... \r\n",
      "@realDonaldTrump @RecusNews  #COVID19 is fam that the highest pandemic. #Covid19\r\n",
      "I smallofunce of Brazility is sh^t and its contraded to maying how in #COVID19 seems and unempention of 15 Americagement of the reive... \r\n",
      "Trump with 71 y\r\n"
     ]
    }
   ],
   "source": [
    "!python generate.py negative_tweets_norm.pt --predict_len 1000"
   ]
  },
  {
   "cell_type": "code",
   "execution_count": 45,
   "id": "058da869",
   "metadata": {},
   "outputs": [
    {
     "name": "stdout",
     "output_type": "stream",
     "text": [
      "A condition. \r\n",
      "Looks Milians should on Americans loss in concern the side died from #COVID19 has been strated that willing, close Amether from... \r\n",
      "#COVID19 in shows to control changing schools have been to said the ongates we didn't run the death toll in a worst learn since that series.\r\n",
      "\r\n",
      "- Global Pandemic Card &amp; the #COVID19... \r\n",
      "@kthtake_by governments can doctors of the Finaldish coult using to the country email worse were failures interbal economy... \r\n",
      "The country of all diseasengers of Victoria, And has representer to sick at my country while of the threat on weird from #COVID19... \r\n",
      "It's  #COVID19 deaths of #COVID19 in the top wry into #Covid19. The blood, in on such a resource of foret of the ot to school bib... \r\n",
      "This is seems sound the vulnerabert &amp; realities to get that beforent. I sound was reality workers into his being the ongoing about want of the middle to go... \r\n",
      "@BillGates @POTUS is factors with time of the back spreading a day social failial get are on who should an t\r\n"
     ]
    }
   ],
   "source": [
    "!python generate.py negative_tweets_norm.pt --predict_len 1000"
   ]
  },
  {
   "cell_type": "code",
   "execution_count": 46,
   "id": "fb3982aa",
   "metadata": {},
   "outputs": [
    {
     "name": "stdout",
     "output_type": "stream",
     "text": [
      "ALERIN: FUCE ONOR NOW to feel to work a screase of contact that would me... \r\n",
      "It is nothing to wears and took time sense diwithound alared to your us of the pandemic is contract... \r\n",
      "@atdownworking @Ranushin the part while the pandemic is social work on #Covid19 and doctors that still fatae the prison school day. The worst did they vote in... \r\n",
      "Betrain' criminald are risk of jobs drea from #COVID19 positive doesn't give under access in a hoax personaland. \r\n",
      "\r\n",
      "Trump's dead... \r\n",
      " Spain decisity deam me in firscing #unstuckination. The victims either posts for 1... \r\n",
      "It's indourcled from pandemic died. #COVID19 \r\n",
      "#COVID19 #ShamitdFLLimes some with a look abo... \r\n",
      "Feinstage a millions of 796,149 new corona possible out contral's or let 10 million in #COVID19 was media has treatment of them \r\n",
      "@goslardherg It is ignorage of our study comes for #COVID19. #Bial Mexicon Beng Florida reports 9%. of problem... \r\n",
      "COVID-19 lister as friends close the virus than #COVID19 with a lot. You... \r\n",
      "Can't heart restaura\r\n"
     ]
    }
   ],
   "source": [
    "!python generate.py negative_tweets_norm.pt --predict_len 1000"
   ]
  },
  {
   "cell_type": "code",
   "execution_count": 47,
   "id": "7a18cca2",
   "metadata": {},
   "outputs": [
    {
     "name": "stdout",
     "output_type": "stream",
     "text": [
      "And those with a creating that governments into COVID-19 Can Demin COVID-19 OR-1 &amp; safe &amp; shoods have reveal when @cownPolecruate @Fasmfack. The same interview... \r\n",
      "Trump 'dided one to said the USA: #COVID19 crisis our daily. #GOPmialDistancial #Hade\r\n",
      "Citizens in the worldwide into a great that a lying and forgotten a failed as exerg... \r\n",
      "I have particle are so latest killed @GOPLeader is being a reveal deaths were because making told t... \r\n",
      "There is hard by death toll remind to work about the systems into our latest stop says ever parently #COVID19 shows plagues, #COVID19 sad to the COVID19 regirlines... \r\n",
      "@NikkiCo @MedightsCanching @whamus De &ambies about the greatest has come for people this but that and... \r\n",
      "@baeharris566 @MarirlTRSPREVER of wondert? Yesterday with therorist were lost reportont intent hinities and super of additional cripho cant a... \r\n",
      "@dgollsoodia apart in #COVID19. #MoridadGoolon #TraitorChailrageawal #COVID19 #BBPC11 in death toll of #COVID19 that victims. #cov\r\n"
     ]
    }
   ],
   "source": [
    "!python generate.py negative_tweets_norm.pt --predict_len 1000"
   ]
  },
  {
   "cell_type": "code",
   "execution_count": 48,
   "id": "d4f87b77",
   "metadata": {},
   "outputs": [
    {
     "name": "stdout",
     "output_type": "stream",
     "text": [
      "A More blowing that policy warns than besene of the Mask pested tested about total cases and 131,289 Deaths w... \r\n",
      "@Newson Miloharched worked to what it has about the right part soul deather bluding everything. Yet can be now about it res... \r\n",
      "Masks is down about #COVID19 is about the sensit the as office admitting incompetential intory... \r\n",
      "COVID-19 #COVID19 pandemic, it's simply that will not work?  The #COVID19 rud poins during #COVID19 #coronavirus #COVID19\r\n",
      "@AirForThe @Chools 13 Kids reported in the last 24 hate sycond to workers are being to indidentions in a seast 24 hours.\r\n",
      "\r\n",
      "#2020 #COVID19... \r\n",
      "Since the deaths are breaking the screting \r\n",
      "@Matra @maresnacrines @Matthe @Alask_AdeatGoves are popid think children than our new #COVID19 disa... \r\n",
      "\"This is our country right it on the pandemic couldn't wearing business away weeks shooty drink must been there.... \r\n",
      "@JoinCong The year of the world's a order so, will sense violated deaths in the nune di... \r\n",
      "The vaccines of #COVID19 nation of #COVI\r\n"
     ]
    }
   ],
   "source": [
    "!python generate.py negative_tweets_norm.pt --predict_len 1000"
   ]
  },
  {
   "cell_type": "code",
   "execution_count": 49,
   "id": "e7eac272",
   "metadata": {},
   "outputs": [
    {
     "name": "stdout",
     "output_type": "stream",
     "text": [
      "A fall for the #COVID19 lives in the years on stat lock and might handling running puttic disaster. \r\n",
      "\r\n",
      "Most than confirmed with #covid19 \r\n",
      "Still emply district not face Jender Man's #COVID19, 127 deaths, any, anyone is that prived with a hoar accept from #COVID19... \r\n",
      "\r\n",
      "@TirlourialNov @Medonada @cpennmnel Now my head as already despite the pandemic is respections have don't want than the bathers of the #Covid19 outbreaks y, time of \"Mask is! The pandemic, exposed because the virus... \r\n",
      "A stated the o... \r\n",
      "@BorisJohns will saaks about the highest #COVID19 #world_boagh #TheRealRightsAbequauteFay \r\n",
      "Persons places with of still not pator today! \r\n",
      "@jamity @CrisisTrumpVirus #COVID19 #CoronaVirusUpdate #COVID19 #Covid19? #COVID19 #coronavirus #COVID19 #horritistics from all that toax... \r\n",
      "@POTUS \r\n",
      "Why not you sick across why has give the government country residents continue to vote #COVID19 we are hard wasting killing of confirmed the death toll is tried in #COVID19 in 150K loss.... \r\n",
      "Health president o\r\n"
     ]
    }
   ],
   "source": [
    "!python generate.py negative_tweets_norm.pt --predict_len 1000"
   ]
  },
  {
   "cell_type": "code",
   "execution_count": 50,
   "id": "6063d0f2",
   "metadata": {},
   "outputs": [
    {
     "name": "stdout",
     "output_type": "stream",
     "text": [
      "AGE death with #COVID19 wather think that #COVID19 Fauci  a responsing state hit days of potentions that's the communities. \r\n",
      "\r\n",
      "Yes of a state is testing dister. ... \r\n",
      "#COVID19 #staybe duish tragic @viddonwangeBtwitter Sound of months active in Tokyo gf to total continued. That is that and the giving suck d... \r\n",
      "@realDonaldTrump pandemic admaging to week using play lotion to happens of testing home come in #Covid19   - and satiess of #COVID19. Trump didn't help paiw face exercism. #Trumpsmjurior_in #FireFailure \r\n",
      "#COVID19 #ComicTuack in Death Canada to be resulting that #NewZealaskiestaffingi... \r\n",
      "@BorisJohnson @Leentranga @cetherma @mandiling dead people failure to doctors (that has esterdare under manger your, taking to estdes... \r\n",
      "More than house of #Covid19 cases with this for #COVID19 and over 8/2/2/o speak of #COVID19 several of the than a bit spread to #COVID19 spread trying still day. Total number of #COVID19. A... \r\n",
      "Hey Final cases and 628 new cases and 943 deaths to there would have n\r\n"
     ]
    }
   ],
   "source": [
    "!python generate.py negative_tweets_norm.pt --predict_len 1000"
   ]
  },
  {
   "cell_type": "code",
   "execution_count": null,
   "id": "e0e4aa1f",
   "metadata": {},
   "outputs": [],
   "source": []
  }
 ],
 "metadata": {
  "kernelspec": {
   "display_name": "Python 3 (ipykernel)",
   "language": "python",
   "name": "python3"
  },
  "language_info": {
   "codemirror_mode": {
    "name": "ipython",
    "version": 3
   },
   "file_extension": ".py",
   "mimetype": "text/x-python",
   "name": "python",
   "nbconvert_exporter": "python",
   "pygments_lexer": "ipython3",
   "version": "3.9.5"
  }
 },
 "nbformat": 4,
 "nbformat_minor": 5
}
